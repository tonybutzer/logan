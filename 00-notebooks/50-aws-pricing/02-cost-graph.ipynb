{
 "cells": [
  {
   "cell_type": "code",
   "execution_count": 1,
   "metadata": {},
   "outputs": [
    {
     "name": "stdout",
     "output_type": "stream",
     "text": [
      "{'Reservations': [{'Groups': [], 'Instances': [{'AmiLaunchIndex': 0, 'ImageId': 'ami-0ac73f33a1888c64a', 'InstanceId': 'i-03089adea10e630a2', 'InstanceType': 't2.micro', 'KeyName': 'megard-uswest-keypair', 'LaunchTime': datetime.datetime(2020, 12, 30, 16, 15, 31, tzinfo=tzlocal()), 'Monitoring': {'State': 'disabled'}, 'Placement': {'AvailabilityZone': 'us-west-2b', 'GroupName': '', 'Tenancy': 'default'}, 'PrivateDnsName': 'ip-10-12-69-136.us-west-2.compute.internal', 'PrivateIpAddress': '10.12.69.136', 'ProductCodes': [], 'PublicDnsName': '', 'State': {'Code': 16, 'Name': 'running'}, 'StateTransitionReason': '', 'SubnetId': 'subnet-0dd447dd1e3e8f355', 'VpcId': 'vpc-0055752230db6161d', 'Architecture': 'x86_64', 'BlockDeviceMappings': [{'DeviceName': '/dev/sda1', 'Ebs': {'AttachTime': datetime.datetime(2020, 12, 18, 14, 49, 43, tzinfo=tzlocal()), 'DeleteOnTermination': True, 'Status': 'attached', 'VolumeId': 'vol-04475ff9b8806a903'}}], 'ClientToken': '', 'EbsOptimized': False, 'EnaSupport': True, 'Hypervisor': 'xen', 'IamInstanceProfile': {'Arn': 'arn:aws:iam::856970663410:instance-profile/EcoAI-Ec2_Role', 'Id': 'AIPA4PB3OSXZJTERRQ54D'}, 'NetworkInterfaces': [{'Attachment': {'AttachTime': datetime.datetime(2020, 12, 18, 14, 49, 42, tzinfo=tzlocal()), 'AttachmentId': 'eni-attach-003420424d06478ed', 'DeleteOnTermination': True, 'DeviceIndex': 0, 'Status': 'attached', 'NetworkCardIndex': 0}, 'Description': 'Primary network interface', 'Groups': [{'GroupName': 'launch-wizard-6', 'GroupId': 'sg-016c6fa1bd65cd4dd'}], 'Ipv6Addresses': [], 'MacAddress': '02:2a:68:5b:88:83', 'NetworkInterfaceId': 'eni-0f40486ed562a9298', 'OwnerId': '856970663410', 'PrivateDnsName': 'ip-10-12-69-136.us-west-2.compute.internal', 'PrivateIpAddress': '10.12.69.136', 'PrivateIpAddresses': [{'Primary': True, 'PrivateDnsName': 'ip-10-12-69-136.us-west-2.compute.internal', 'PrivateIpAddress': '10.12.69.136'}], 'SourceDestCheck': True, 'Status': 'in-use', 'SubnetId': 'subnet-0dd447dd1e3e8f355', 'VpcId': 'vpc-0055752230db6161d', 'InterfaceType': 'interface'}], 'RootDeviceName': '/dev/sda1', 'RootDeviceType': 'ebs', 'SecurityGroups': [{'GroupName': 'launch-wizard-6', 'GroupId': 'sg-016c6fa1bd65cd4dd'}], 'SourceDestCheck': True, 'Tags': [{'Key': 'Name', 'Value': 'logan-admin-persistent'}], 'VirtualizationType': 'hvm', 'CpuOptions': {'CoreCount': 1, 'ThreadsPerCore': 1}, 'CapacityReservationSpecification': {'CapacityReservationPreference': 'open'}, 'HibernationOptions': {'Configured': False}, 'MetadataOptions': {'State': 'applied', 'HttpTokens': 'optional', 'HttpPutResponseHopLimit': 1, 'HttpEndpoint': 'enabled'}, 'EnclaveOptions': {'Enabled': False}}], 'OwnerId': '856970663410', 'ReservationId': 'r-012991dad1dd1a867'}, {'Groups': [], 'Instances': [{'AmiLaunchIndex': 0, 'ImageId': 'ami-0ac73f33a1888c64a', 'InstanceId': 'i-010e84b7e0d5eb6c8', 'InstanceType': 't2.micro', 'KeyName': 'megard-uswest-keypair', 'LaunchTime': datetime.datetime(2021, 1, 12, 21, 46, 57, tzinfo=tzlocal()), 'Monitoring': {'State': 'disabled'}, 'Placement': {'AvailabilityZone': 'us-west-2b', 'GroupName': '', 'Tenancy': 'default'}, 'PrivateDnsName': 'ip-10-12-69-239.us-west-2.compute.internal', 'PrivateIpAddress': '10.12.69.239', 'ProductCodes': [], 'PublicDnsName': '', 'State': {'Code': 80, 'Name': 'stopped'}, 'StateTransitionReason': 'User initiated (2021-01-12 21:52:51 GMT)', 'SubnetId': 'subnet-0dd447dd1e3e8f355', 'VpcId': 'vpc-0055752230db6161d', 'Architecture': 'x86_64', 'BlockDeviceMappings': [{'DeviceName': '/dev/sda1', 'Ebs': {'AttachTime': datetime.datetime(2020, 12, 18, 15, 25, 33, tzinfo=tzlocal()), 'DeleteOnTermination': True, 'Status': 'attached', 'VolumeId': 'vol-02c841118d7ef3824'}}], 'ClientToken': '', 'EbsOptimized': False, 'EnaSupport': True, 'Hypervisor': 'xen', 'IamInstanceProfile': {'Arn': 'arn:aws:iam::856970663410:instance-profile/csr-Ec2-Role-LP', 'Id': 'AIPA4PB3OSXZD7TEMO4J2'}, 'NetworkInterfaces': [{'Attachment': {'AttachTime': datetime.datetime(2020, 12, 18, 15, 25, 32, tzinfo=tzlocal()), 'AttachmentId': 'eni-attach-020dc3d6599d60912', 'DeleteOnTermination': True, 'DeviceIndex': 0, 'Status': 'attached', 'NetworkCardIndex': 0}, 'Description': 'Primary network interface', 'Groups': [{'GroupName': 'launch-wizard-6', 'GroupId': 'sg-016c6fa1bd65cd4dd'}], 'Ipv6Addresses': [], 'MacAddress': '02:36:a5:5b:7e:3d', 'NetworkInterfaceId': 'eni-048520457cec7e73b', 'OwnerId': '856970663410', 'PrivateDnsName': 'ip-10-12-69-239.us-west-2.compute.internal', 'PrivateIpAddress': '10.12.69.239', 'PrivateIpAddresses': [{'Primary': True, 'PrivateDnsName': 'ip-10-12-69-239.us-west-2.compute.internal', 'PrivateIpAddress': '10.12.69.239'}], 'SourceDestCheck': True, 'Status': 'in-use', 'SubnetId': 'subnet-0dd447dd1e3e8f355', 'VpcId': 'vpc-0055752230db6161d', 'InterfaceType': 'interface'}], 'RootDeviceName': '/dev/sda1', 'RootDeviceType': 'ebs', 'SecurityGroups': [{'GroupName': 'launch-wizard-6', 'GroupId': 'sg-016c6fa1bd65cd4dd'}], 'SourceDestCheck': True, 'StateReason': {'Code': 'Client.UserInitiatedShutdown', 'Message': 'Client.UserInitiatedShutdown: User initiated shutdown'}, 'Tags': [{'Key': 'Name', 'Value': 'logan-roletrial'}], 'VirtualizationType': 'hvm', 'CpuOptions': {'CoreCount': 1, 'ThreadsPerCore': 1}, 'CapacityReservationSpecification': {'CapacityReservationPreference': 'open'}, 'HibernationOptions': {'Configured': False}, 'MetadataOptions': {'State': 'applied', 'HttpTokens': 'optional', 'HttpPutResponseHopLimit': 1, 'HttpEndpoint': 'enabled'}, 'EnclaveOptions': {'Enabled': False}}], 'OwnerId': '856970663410', 'ReservationId': 'r-0181076bdc16547e8'}, {'Groups': [], 'Instances': [{'AmiLaunchIndex': 0, 'ImageId': 'ami-0ac73f33a1888c64a', 'InstanceId': 'i-08c3836591d02eb62', 'InstanceType': 't3a.2xlarge', 'KeyName': 'megard-uswest-keypair', 'LaunchTime': datetime.datetime(2021, 1, 12, 13, 32, 26, tzinfo=tzlocal()), 'Monitoring': {'State': 'disabled'}, 'Placement': {'AvailabilityZone': 'us-west-2b', 'GroupName': '', 'Tenancy': 'default'}, 'PrivateDnsName': 'ip-10-12-68-150.us-west-2.compute.internal', 'PrivateIpAddress': '10.12.68.150', 'ProductCodes': [], 'PublicDnsName': '', 'State': {'Code': 16, 'Name': 'running'}, 'StateTransitionReason': '', 'SubnetId': 'subnet-0dd447dd1e3e8f355', 'VpcId': 'vpc-0055752230db6161d', 'Architecture': 'x86_64', 'BlockDeviceMappings': [{'DeviceName': '/dev/sda1', 'Ebs': {'AttachTime': datetime.datetime(2020, 12, 21, 21, 25, 11, tzinfo=tzlocal()), 'DeleteOnTermination': True, 'Status': 'attached', 'VolumeId': 'vol-0ab8aab2f1fc39f56'}}], 'ClientToken': '0449367C-E531-4815-8B46-3A5410DA8813', 'EbsOptimized': False, 'EnaSupport': True, 'Hypervisor': 'xen', 'IamInstanceProfile': {'Arn': 'arn:aws:iam::856970663410:instance-profile/EcoAI-Ec2_Role', 'Id': 'AIPA4PB3OSXZJTERRQ54D'}, 'NetworkInterfaces': [{'Attachment': {'AttachTime': datetime.datetime(2020, 12, 21, 21, 25, 10, tzinfo=tzlocal()), 'AttachmentId': 'eni-attach-024759ba48fc00e1f', 'DeleteOnTermination': True, 'DeviceIndex': 0, 'Status': 'attached', 'NetworkCardIndex': 0}, 'Description': '', 'Groups': [{'GroupName': 'eco-testgroup', 'GroupId': 'sg-042f773721ffcabe7'}], 'Ipv6Addresses': [], 'MacAddress': '02:bb:8f:b8:3f:31', 'NetworkInterfaceId': 'eni-0419be0c74b482a79', 'OwnerId': '856970663410', 'PrivateDnsName': 'ip-10-12-68-150.us-west-2.compute.internal', 'PrivateIpAddress': '10.12.68.150', 'PrivateIpAddresses': [{'Primary': True, 'PrivateDnsName': 'ip-10-12-68-150.us-west-2.compute.internal', 'PrivateIpAddress': '10.12.68.150'}], 'SourceDestCheck': True, 'Status': 'in-use', 'SubnetId': 'subnet-0dd447dd1e3e8f355', 'VpcId': 'vpc-0055752230db6161d', 'InterfaceType': 'interface'}], 'RootDeviceName': '/dev/sda1', 'RootDeviceType': 'ebs', 'SecurityGroups': [{'GroupName': 'eco-testgroup', 'GroupId': 'sg-042f773721ffcabe7'}], 'SourceDestCheck': True, 'Tags': [{'Key': 'Project', 'Value': 'ECO'}, {'Key': 'Name', 'Value': 'eco-mini-pangeo-persistent-0'}, {'Key': 'Owner', 'Value': 'butzer@contractor.usgs.gov'}], 'VirtualizationType': 'hvm', 'CpuOptions': {'CoreCount': 4, 'ThreadsPerCore': 2}, 'CapacityReservationSpecification': {'CapacityReservationPreference': 'open'}, 'HibernationOptions': {'Configured': False}, 'MetadataOptions': {'State': 'applied', 'HttpTokens': 'optional', 'HttpPutResponseHopLimit': 1, 'HttpEndpoint': 'enabled'}, 'EnclaveOptions': {'Enabled': False}}], 'OwnerId': '856970663410', 'ReservationId': 'r-0df6e53e5e35a9b05'}, {'Groups': [], 'Instances': [{'AmiLaunchIndex': 0, 'ImageId': 'ami-098555c9b343eb09c', 'InstanceId': 'i-091b436b602be887a', 'InstanceType': 'p3.2xlarge', 'KeyName': 'EcoAI', 'LaunchTime': datetime.datetime(2020, 12, 31, 12, 51, 16, tzinfo=tzlocal()), 'Monitoring': {'State': 'disabled'}, 'Placement': {'AvailabilityZone': 'us-west-2b', 'GroupName': '', 'Tenancy': 'default'}, 'PrivateDnsName': 'ip-10-12-69-149.us-west-2.compute.internal', 'PrivateIpAddress': '10.12.69.149', 'ProductCodes': [], 'PublicDnsName': '', 'State': {'Code': 80, 'Name': 'stopped'}, 'StateTransitionReason': 'User initiated (2020-12-31 13:02:28 GMT)', 'SubnetId': 'subnet-0dd447dd1e3e8f355', 'VpcId': 'vpc-0055752230db6161d', 'Architecture': 'x86_64', 'BlockDeviceMappings': [{'DeviceName': '/dev/sda1', 'Ebs': {'AttachTime': datetime.datetime(2020, 12, 31, 12, 51, 17, tzinfo=tzlocal()), 'DeleteOnTermination': True, 'Status': 'attached', 'VolumeId': 'vol-040cac1f490413f04'}}], 'ClientToken': '', 'EbsOptimized': True, 'EnaSupport': True, 'Hypervisor': 'xen', 'IamInstanceProfile': {'Arn': 'arn:aws:iam::856970663410:instance-profile/EcoAI-Ec2_Role', 'Id': 'AIPA4PB3OSXZJTERRQ54D'}, 'NetworkInterfaces': [{'Attachment': {'AttachTime': datetime.datetime(2020, 12, 31, 12, 51, 16, tzinfo=tzlocal()), 'AttachmentId': 'eni-attach-0c16e612e4a36abd0', 'DeleteOnTermination': True, 'DeviceIndex': 0, 'Status': 'attached', 'NetworkCardIndex': 0}, 'Description': 'Primary network interface', 'Groups': [{'GroupName': 'eco-testgroup', 'GroupId': 'sg-042f773721ffcabe7'}], 'Ipv6Addresses': [], 'MacAddress': '02:f0:a2:b4:02:97', 'NetworkInterfaceId': 'eni-00b12e2143c035ef4', 'OwnerId': '856970663410', 'PrivateDnsName': 'ip-10-12-69-149.us-west-2.compute.internal', 'PrivateIpAddress': '10.12.69.149', 'PrivateIpAddresses': [{'Primary': True, 'PrivateDnsName': 'ip-10-12-69-149.us-west-2.compute.internal', 'PrivateIpAddress': '10.12.69.149'}], 'SourceDestCheck': True, 'Status': 'in-use', 'SubnetId': 'subnet-0dd447dd1e3e8f355', 'VpcId': 'vpc-0055752230db6161d', 'InterfaceType': 'interface'}], 'RootDeviceName': '/dev/sda1', 'RootDeviceType': 'ebs', 'SecurityGroups': [{'GroupName': 'eco-testgroup', 'GroupId': 'sg-042f773721ffcabe7'}], 'SourceDestCheck': True, 'StateReason': {'Code': 'Client.UserInitiatedShutdown', 'Message': 'Client.UserInitiatedShutdown: User initiated shutdown'}, 'Tags': [{'Key': 'EcoAI-mini-p3-0', 'Value': 'EcoAI-mini-p3-0'}, {'Key': 'Name', 'Value': 'eco-mini-sage'}], 'VirtualizationType': 'hvm', 'CpuOptions': {'CoreCount': 4, 'ThreadsPerCore': 2}, 'CapacityReservationSpecification': {'CapacityReservationPreference': 'open'}, 'HibernationOptions': {'Configured': False}, 'MetadataOptions': {'State': 'applied', 'HttpTokens': 'optional', 'HttpPutResponseHopLimit': 1, 'HttpEndpoint': 'enabled'}, 'EnclaveOptions': {'Enabled': False}}], 'OwnerId': '856970663410', 'ReservationId': 'r-08a414b27f612c0aa'}, {'Groups': [], 'Instances': [{'AmiLaunchIndex': 0, 'ImageId': 'ami-0ac73f33a1888c64a', 'InstanceId': 'i-00b45298eec723a08', 'InstanceType': 'm4.large', 'KeyName': 'EcoAI', 'LaunchTime': datetime.datetime(2021, 1, 12, 17, 9, 4, tzinfo=tzlocal()), 'Monitoring': {'State': 'disabled'}, 'Placement': {'AvailabilityZone': 'us-west-2b', 'GroupName': '', 'Tenancy': 'default'}, 'PrivateDnsName': 'ip-10-12-69-111.us-west-2.compute.internal', 'PrivateIpAddress': '10.12.69.111', 'ProductCodes': [], 'PublicDnsName': '', 'State': {'Code': 80, 'Name': 'stopped'}, 'StateTransitionReason': 'User initiated (2021-01-13 12:36:26 GMT)', 'SubnetId': 'subnet-0dd447dd1e3e8f355', 'VpcId': 'vpc-0055752230db6161d', 'Architecture': 'x86_64', 'BlockDeviceMappings': [{'DeviceName': '/dev/sda1', 'Ebs': {'AttachTime': datetime.datetime(2021, 1, 4, 18, 8, 53, tzinfo=tzlocal()), 'DeleteOnTermination': True, 'Status': 'attached', 'VolumeId': 'vol-0affca80e22237da2'}}], 'ClientToken': '', 'EbsOptimized': True, 'EnaSupport': True, 'Hypervisor': 'xen', 'IamInstanceProfile': {'Arn': 'arn:aws:iam::856970663410:instance-profile/EcoAI-Ec2_Role', 'Id': 'AIPA4PB3OSXZJTERRQ54D'}, 'NetworkInterfaces': [{'Attachment': {'AttachTime': datetime.datetime(2021, 1, 4, 18, 8, 52, tzinfo=tzlocal()), 'AttachmentId': 'eni-attach-0e650bac22fd3b428', 'DeleteOnTermination': True, 'DeviceIndex': 0, 'Status': 'attached', 'NetworkCardIndex': 0}, 'Description': 'Primary network interface', 'Groups': [{'GroupName': 'launch-wizard-10', 'GroupId': 'sg-0ed8856fdaced846c'}], 'Ipv6Addresses': [], 'MacAddress': '02:60:64:07:71:45', 'NetworkInterfaceId': 'eni-0b83be9ec882bf5c3', 'OwnerId': '856970663410', 'PrivateDnsName': 'ip-10-12-69-111.us-west-2.compute.internal', 'PrivateIpAddress': '10.12.69.111', 'PrivateIpAddresses': [{'Primary': True, 'PrivateDnsName': 'ip-10-12-69-111.us-west-2.compute.internal', 'PrivateIpAddress': '10.12.69.111'}], 'SourceDestCheck': True, 'Status': 'in-use', 'SubnetId': 'subnet-0dd447dd1e3e8f355', 'VpcId': 'vpc-0055752230db6161d', 'InterfaceType': 'interface'}], 'RootDeviceName': '/dev/sda1', 'RootDeviceType': 'ebs', 'SecurityGroups': [{'GroupName': 'launch-wizard-10', 'GroupId': 'sg-0ed8856fdaced846c'}], 'SourceDestCheck': True, 'StateReason': {'Code': 'Client.UserInitiatedShutdown', 'Message': 'Client.UserInitiatedShutdown: User initiated shutdown'}, 'Tags': [{'Key': 'Name', 'Value': 'njpastick-rserver-0'}], 'VirtualizationType': 'hvm', 'CpuOptions': {'CoreCount': 1, 'ThreadsPerCore': 2}, 'CapacityReservationSpecification': {'CapacityReservationPreference': 'open'}, 'HibernationOptions': {'Configured': False}, 'MetadataOptions': {'State': 'applied', 'HttpTokens': 'optional', 'HttpPutResponseHopLimit': 1, 'HttpEndpoint': 'enabled'}, 'EnclaveOptions': {'Enabled': False}}], 'OwnerId': '856970663410', 'ReservationId': 'r-07eb6004c19e579bc'}], 'ResponseMetadata': {'RequestId': 'f73e667f-ae7a-481d-b880-db7d825f05d3', 'HTTPStatusCode': 200, 'HTTPHeaders': {'x-amzn-requestid': 'f73e667f-ae7a-481d-b880-db7d825f05d3', 'cache-control': 'no-cache, no-store', 'strict-transport-security': 'max-age=31536000; includeSubDomains', 'content-type': 'text/xml;charset=UTF-8', 'transfer-encoding': 'chunked', 'vary': 'accept-encoding', 'date': 'Wed, 13 Jan 2021 18:27:50 GMT', 'server': 'AmazonEC2'}, 'RetryAttempts': 0}}\n"
     ]
    }
   ],
   "source": [
    "import boto3\n",
    "\n",
    "ec2 = boto3.client('ec2',  region_name='us-west-2')\n",
    "response = ec2.describe_instances()\n",
    "print(response)"
   ]
  },
  {
   "cell_type": "code",
   "execution_count": 2,
   "metadata": {},
   "outputs": [
    {
     "data": {
      "text/plain": [
       "[{'AmiLaunchIndex': 0,\n",
       "  'ImageId': 'ami-0ac73f33a1888c64a',\n",
       "  'InstanceId': 'i-03089adea10e630a2',\n",
       "  'InstanceType': 't2.micro',\n",
       "  'KeyName': 'megard-uswest-keypair',\n",
       "  'LaunchTime': datetime.datetime(2020, 12, 30, 16, 15, 31, tzinfo=tzlocal()),\n",
       "  'Monitoring': {'State': 'disabled'},\n",
       "  'Placement': {'AvailabilityZone': 'us-west-2b',\n",
       "   'GroupName': '',\n",
       "   'Tenancy': 'default'},\n",
       "  'PrivateDnsName': 'ip-10-12-69-136.us-west-2.compute.internal',\n",
       "  'PrivateIpAddress': '10.12.69.136',\n",
       "  'ProductCodes': [],\n",
       "  'PublicDnsName': '',\n",
       "  'State': {'Code': 16, 'Name': 'running'},\n",
       "  'StateTransitionReason': '',\n",
       "  'SubnetId': 'subnet-0dd447dd1e3e8f355',\n",
       "  'VpcId': 'vpc-0055752230db6161d',\n",
       "  'Architecture': 'x86_64',\n",
       "  'BlockDeviceMappings': [{'DeviceName': '/dev/sda1',\n",
       "    'Ebs': {'AttachTime': datetime.datetime(2020, 12, 18, 14, 49, 43, tzinfo=tzlocal()),\n",
       "     'DeleteOnTermination': True,\n",
       "     'Status': 'attached',\n",
       "     'VolumeId': 'vol-04475ff9b8806a903'}}],\n",
       "  'ClientToken': '',\n",
       "  'EbsOptimized': False,\n",
       "  'EnaSupport': True,\n",
       "  'Hypervisor': 'xen',\n",
       "  'IamInstanceProfile': {'Arn': 'arn:aws:iam::856970663410:instance-profile/EcoAI-Ec2_Role',\n",
       "   'Id': 'AIPA4PB3OSXZJTERRQ54D'},\n",
       "  'NetworkInterfaces': [{'Attachment': {'AttachTime': datetime.datetime(2020, 12, 18, 14, 49, 42, tzinfo=tzlocal()),\n",
       "     'AttachmentId': 'eni-attach-003420424d06478ed',\n",
       "     'DeleteOnTermination': True,\n",
       "     'DeviceIndex': 0,\n",
       "     'Status': 'attached',\n",
       "     'NetworkCardIndex': 0},\n",
       "    'Description': 'Primary network interface',\n",
       "    'Groups': [{'GroupName': 'launch-wizard-6',\n",
       "      'GroupId': 'sg-016c6fa1bd65cd4dd'}],\n",
       "    'Ipv6Addresses': [],\n",
       "    'MacAddress': '02:2a:68:5b:88:83',\n",
       "    'NetworkInterfaceId': 'eni-0f40486ed562a9298',\n",
       "    'OwnerId': '856970663410',\n",
       "    'PrivateDnsName': 'ip-10-12-69-136.us-west-2.compute.internal',\n",
       "    'PrivateIpAddress': '10.12.69.136',\n",
       "    'PrivateIpAddresses': [{'Primary': True,\n",
       "      'PrivateDnsName': 'ip-10-12-69-136.us-west-2.compute.internal',\n",
       "      'PrivateIpAddress': '10.12.69.136'}],\n",
       "    'SourceDestCheck': True,\n",
       "    'Status': 'in-use',\n",
       "    'SubnetId': 'subnet-0dd447dd1e3e8f355',\n",
       "    'VpcId': 'vpc-0055752230db6161d',\n",
       "    'InterfaceType': 'interface'}],\n",
       "  'RootDeviceName': '/dev/sda1',\n",
       "  'RootDeviceType': 'ebs',\n",
       "  'SecurityGroups': [{'GroupName': 'launch-wizard-6',\n",
       "    'GroupId': 'sg-016c6fa1bd65cd4dd'}],\n",
       "  'SourceDestCheck': True,\n",
       "  'Tags': [{'Key': 'Name', 'Value': 'logan-admin-persistent'}],\n",
       "  'VirtualizationType': 'hvm',\n",
       "  'CpuOptions': {'CoreCount': 1, 'ThreadsPerCore': 1},\n",
       "  'CapacityReservationSpecification': {'CapacityReservationPreference': 'open'},\n",
       "  'HibernationOptions': {'Configured': False},\n",
       "  'MetadataOptions': {'State': 'applied',\n",
       "   'HttpTokens': 'optional',\n",
       "   'HttpPutResponseHopLimit': 1,\n",
       "   'HttpEndpoint': 'enabled'},\n",
       "  'EnclaveOptions': {'Enabled': False}}]"
      ]
     },
     "execution_count": 2,
     "metadata": {},
     "output_type": "execute_result"
    }
   ],
   "source": [
    "response['Reservations'][0]['Instances']"
   ]
  },
  {
   "cell_type": "code",
   "execution_count": 3,
   "metadata": {},
   "outputs": [
    {
     "data": {
      "text/plain": [
       "'10.12.69.136'"
      ]
     },
     "execution_count": 3,
     "metadata": {},
     "output_type": "execute_result"
    }
   ],
   "source": [
    "response['Reservations'][0]['Instances'][0]['PrivateIpAddress']"
   ]
  },
  {
   "cell_type": "code",
   "execution_count": 4,
   "metadata": {},
   "outputs": [
    {
     "data": {
      "text/plain": [
       "'logan-admin-persistent'"
      ]
     },
     "execution_count": 4,
     "metadata": {},
     "output_type": "execute_result"
    }
   ],
   "source": [
    "response['Reservations'][0]['Instances'][0]['Tags'][0]['Value']"
   ]
  },
  {
   "cell_type": "code",
   "execution_count": 5,
   "metadata": {},
   "outputs": [
    {
     "data": {
      "text/plain": [
       "'logan-roletrial'"
      ]
     },
     "execution_count": 5,
     "metadata": {},
     "output_type": "execute_result"
    }
   ],
   "source": [
    "response['Reservations'][1]['Instances'][0]['Tags'][0]['Value']"
   ]
  },
  {
   "cell_type": "code",
   "execution_count": 6,
   "metadata": {},
   "outputs": [
    {
     "name": "stdout",
     "output_type": "stream",
     "text": [
      "logan-admin-persistent\n",
      "10.12.69.136\n",
      "t2.micro\n",
      "logan-roletrial\n",
      "10.12.69.239\n",
      "t2.micro\n",
      "ECO\n",
      "10.12.68.150\n",
      "t3a.2xlarge\n",
      "EcoAI-mini-p3-0\n",
      "10.12.69.149\n",
      "p3.2xlarge\n",
      "njpastick-rserver-0\n",
      "10.12.69.111\n",
      "m4.large\n"
     ]
    }
   ],
   "source": [
    "instance_type_list=[]\n",
    "for i in range(len(response[\"Reservations\"])):\n",
    "    #print(i)\n",
    "    print(response['Reservations'][i]['Instances'][0]['Tags'][0]['Value'])\n",
    "    print(response['Reservations'][i]['Instances'][0]['PrivateIpAddress'])\n",
    "    print(response['Reservations'][i]['Instances'][0]['InstanceType'])\n",
    "    instance_type_list.append(response['Reservations'][i]['Instances'][0]['InstanceType'])\n"
   ]
  },
  {
   "cell_type": "code",
   "execution_count": 7,
   "metadata": {},
   "outputs": [],
   "source": [
    "import pickle\n",
    "filename='price_prune.pickle'\n",
    "infile = open(filename,'rb')\n",
    "df = pickle.load(infile)\n",
    "infile.close()"
   ]
  },
  {
   "cell_type": "code",
   "execution_count": 8,
   "metadata": {},
   "outputs": [],
   "source": [
    "def return_price(data_frame, instance_type):\n",
    "    wdf = data_frame[(data_frame['Instance Type'] == instance_type)]\n",
    "    #print(wdf)\n",
    "    instance_price = wdf.iloc[0].PricePerUnit\n",
    "    return(instance_price)"
   ]
  },
  {
   "cell_type": "code",
   "execution_count": 9,
   "metadata": {},
   "outputs": [
    {
     "name": "stdout",
     "output_type": "stream",
     "text": [
      "t2.micro\n",
      "0.0116\n",
      "8.468\n",
      "t2.micro\n",
      "0.0116\n",
      "8.468\n",
      "t3a.2xlarge\n",
      "0.3008\n",
      "219.58399999999997\n",
      "p3.2xlarge\n",
      "3.06\n",
      "2233.8\n",
      "m4.large\n",
      "0.1\n",
      "73.0\n"
     ]
    }
   ],
   "source": [
    "i_list=[]\n",
    "for i_type in instance_type_list:\n",
    "    print(i_type)\n",
    "    hr_cost = return_price(df, i_type)\n",
    "    print(hr_cost)\n",
    "    cost_per_month = hr_cost * 365 * 24 / 12  \n",
    "    print(cost_per_month)"
   ]
  },
  {
   "cell_type": "code",
   "execution_count": 10,
   "metadata": {},
   "outputs": [],
   "source": [
    "instance_list=[]\n",
    "for i in range(len(response[\"Reservations\"])):\n",
    "    #print(i)\n",
    "    name = response['Reservations'][i]['Instances'][0]['Tags'][0]['Value']\n",
    "    ip = response['Reservations'][i]['Instances'][0]['PrivateIpAddress']\n",
    "    i_type = response['Reservations'][i]['Instances'][0]['InstanceType']\n",
    "    state=response['Reservations'][i]['Instances'][0]['State']['Name']\n",
    "    hr_cost = return_price(df, i_type)\n",
    "    monthly_cost = hr_cost * 365 * 24 / 12  \n",
    "\n",
    "    \n",
    "    item={\n",
    "        'state': state,\n",
    "        'name': name,\n",
    "        'ip': ip,\n",
    "        'i_type': i_type,\n",
    "        'monthly_cost': monthly_cost\n",
    "    }\n",
    "    instance_list.append(item)"
   ]
  },
  {
   "cell_type": "code",
   "execution_count": 11,
   "metadata": {},
   "outputs": [],
   "source": [
    "import pandas as pd\n",
    "cdf = pd.DataFrame(instance_list)"
   ]
  },
  {
   "cell_type": "code",
   "execution_count": 12,
   "metadata": {},
   "outputs": [
    {
     "data": {
      "text/html": [
       "<div>\n",
       "<style scoped>\n",
       "    .dataframe tbody tr th:only-of-type {\n",
       "        vertical-align: middle;\n",
       "    }\n",
       "\n",
       "    .dataframe tbody tr th {\n",
       "        vertical-align: top;\n",
       "    }\n",
       "\n",
       "    .dataframe thead th {\n",
       "        text-align: right;\n",
       "    }\n",
       "</style>\n",
       "<table border=\"1\" class=\"dataframe\">\n",
       "  <thead>\n",
       "    <tr style=\"text-align: right;\">\n",
       "      <th></th>\n",
       "      <th>state</th>\n",
       "      <th>name</th>\n",
       "      <th>ip</th>\n",
       "      <th>i_type</th>\n",
       "      <th>monthly_cost</th>\n",
       "    </tr>\n",
       "  </thead>\n",
       "  <tbody>\n",
       "    <tr>\n",
       "      <th>0</th>\n",
       "      <td>running</td>\n",
       "      <td>logan-admin-persistent</td>\n",
       "      <td>10.12.69.136</td>\n",
       "      <td>t2.micro</td>\n",
       "      <td>8.468</td>\n",
       "    </tr>\n",
       "    <tr>\n",
       "      <th>1</th>\n",
       "      <td>stopped</td>\n",
       "      <td>logan-roletrial</td>\n",
       "      <td>10.12.69.239</td>\n",
       "      <td>t2.micro</td>\n",
       "      <td>8.468</td>\n",
       "    </tr>\n",
       "    <tr>\n",
       "      <th>2</th>\n",
       "      <td>running</td>\n",
       "      <td>ECO</td>\n",
       "      <td>10.12.68.150</td>\n",
       "      <td>t3a.2xlarge</td>\n",
       "      <td>219.584</td>\n",
       "    </tr>\n",
       "    <tr>\n",
       "      <th>3</th>\n",
       "      <td>stopped</td>\n",
       "      <td>EcoAI-mini-p3-0</td>\n",
       "      <td>10.12.69.149</td>\n",
       "      <td>p3.2xlarge</td>\n",
       "      <td>2233.800</td>\n",
       "    </tr>\n",
       "    <tr>\n",
       "      <th>4</th>\n",
       "      <td>stopped</td>\n",
       "      <td>njpastick-rserver-0</td>\n",
       "      <td>10.12.69.111</td>\n",
       "      <td>m4.large</td>\n",
       "      <td>73.000</td>\n",
       "    </tr>\n",
       "  </tbody>\n",
       "</table>\n",
       "</div>"
      ],
      "text/plain": [
       "     state                    name            ip       i_type  monthly_cost\n",
       "0  running  logan-admin-persistent  10.12.69.136     t2.micro         8.468\n",
       "1  stopped         logan-roletrial  10.12.69.239     t2.micro         8.468\n",
       "2  running                     ECO  10.12.68.150  t3a.2xlarge       219.584\n",
       "3  stopped         EcoAI-mini-p3-0  10.12.69.149   p3.2xlarge      2233.800\n",
       "4  stopped     njpastick-rserver-0  10.12.69.111     m4.large        73.000"
      ]
     },
     "execution_count": 12,
     "metadata": {},
     "output_type": "execute_result"
    }
   ],
   "source": [
    "cdf"
   ]
  },
  {
   "cell_type": "markdown",
   "metadata": {},
   "source": [
    "# Scare Neal Graph"
   ]
  },
  {
   "cell_type": "code",
   "execution_count": 13,
   "metadata": {},
   "outputs": [
    {
     "data": {
      "text/plain": [
       "<AxesSubplot:xlabel='name'>"
      ]
     },
     "execution_count": 13,
     "metadata": {},
     "output_type": "execute_result"
    },
    {
     "data": {
      "image/png": "[encoded data removed]",
      "text/plain": [
       "<Figure size 432x432 with 1 Axes>"
      ]
     },
     "metadata": {
      "needs_background": "light"
     },
     "output_type": "display_data"
    }
   ],
   "source": [
    "from itertools import cycle, islice\n",
    "my_colors = list(islice(cycle(['b', 'r', 'g', 'r', 'k']), None, len(cdf)))\n",
    "cdf.plot(figsize=(6,6),x ='name', y='monthly_cost', kind = 'bar', color=my_colors)"
   ]
  },
  {
   "cell_type": "code",
   "execution_count": 14,
   "metadata": {},
   "outputs": [
    {
     "data": {
      "text/plain": [
       "'running'"
      ]
     },
     "execution_count": 14,
     "metadata": {},
     "output_type": "execute_result"
    }
   ],
   "source": [
    "response['Reservations'][0]['Instances'][0]['State']['Name']"
   ]
  },
  {
   "cell_type": "code",
   "execution_count": 15,
   "metadata": {},
   "outputs": [],
   "source": [
    "rdf=cdf[(cdf['state'] == 'running')]"
   ]
  },
  {
   "cell_type": "code",
   "execution_count": 16,
   "metadata": {},
   "outputs": [
    {
     "data": {
      "text/html": [
       "<div>\n",
       "<style scoped>\n",
       "    .dataframe tbody tr th:only-of-type {\n",
       "        vertical-align: middle;\n",
       "    }\n",
       "\n",
       "    .dataframe tbody tr th {\n",
       "        vertical-align: top;\n",
       "    }\n",
       "\n",
       "    .dataframe thead th {\n",
       "        text-align: right;\n",
       "    }\n",
       "</style>\n",
       "<table border=\"1\" class=\"dataframe\">\n",
       "  <thead>\n",
       "    <tr style=\"text-align: right;\">\n",
       "      <th></th>\n",
       "      <th>state</th>\n",
       "      <th>name</th>\n",
       "      <th>ip</th>\n",
       "      <th>i_type</th>\n",
       "      <th>monthly_cost</th>\n",
       "    </tr>\n",
       "  </thead>\n",
       "  <tbody>\n",
       "    <tr>\n",
       "      <th>0</th>\n",
       "      <td>running</td>\n",
       "      <td>logan-admin-persistent</td>\n",
       "      <td>10.12.69.136</td>\n",
       "      <td>t2.micro</td>\n",
       "      <td>8.468</td>\n",
       "    </tr>\n",
       "    <tr>\n",
       "      <th>2</th>\n",
       "      <td>running</td>\n",
       "      <td>ECO</td>\n",
       "      <td>10.12.68.150</td>\n",
       "      <td>t3a.2xlarge</td>\n",
       "      <td>219.584</td>\n",
       "    </tr>\n",
       "  </tbody>\n",
       "</table>\n",
       "</div>"
      ],
      "text/plain": [
       "     state                    name            ip       i_type  monthly_cost\n",
       "0  running  logan-admin-persistent  10.12.69.136     t2.micro         8.468\n",
       "2  running                     ECO  10.12.68.150  t3a.2xlarge       219.584"
      ]
     },
     "execution_count": 16,
     "metadata": {},
     "output_type": "execute_result"
    }
   ],
   "source": [
    "rdf"
   ]
  },
  {
   "cell_type": "code",
   "execution_count": 17,
   "metadata": {},
   "outputs": [
    {
     "data": {
      "text/plain": [
       "<AxesSubplot:xlabel='name'>"
      ]
     },
     "execution_count": 17,
     "metadata": {},
     "output_type": "execute_result"
    },
    {
     "data": {
      "image/png": "[encoded data removed]",
      "text/plain": [
       "<Figure size 432x432 with 1 Axes>"
      ]
     },
     "metadata": {
      "needs_background": "light"
     },
     "output_type": "display_data"
    }
   ],
   "source": [
    "rdf.plot(figsize=(6,6),x ='name', y='monthly_cost', kind = 'bar', color=my_colors)"
   ]
  },
  {
   "cell_type": "code",
   "execution_count": 18,
   "metadata": {},
   "outputs": [
    {
     "name": "stdout",
     "output_type": "stream",
     "text": [
      "Package                Version    \r\n",
      "---------------------- -----------\r\n",
      "affine                 2.3.0      \r\n",
      "aiobotocore            1.1.2      \r\n",
      "aiohttp                3.7.3      \r\n",
      "aioitertools           0.7.1      \r\n",
      "alembic                1.4.3      \r\n",
      "argon2-cffi            20.1.0     \r\n",
      "asn1crypto             0.24.0     \r\n",
      "async-generator        1.10       \r\n",
      "async-timeout          3.0.1      \r\n",
      "attrs                  20.3.0     \r\n",
      "awscli                 1.18.202   \r\n",
      "backcall               0.2.0      \r\n",
      "bleach                 3.2.1      \r\n",
      "bokeh                  2.2.3      \r\n",
      "boto3                  1.16.42    \r\n",
      "botocore               1.19.42    \r\n",
      "branca                 0.4.1      \r\n",
      "Brotli                 1.0.9      \r\n",
      "cached-property        1.5.2      \r\n",
      "Cartopy                0.18.0     \r\n",
      "certifi                2020.12.5  \r\n",
      "certipy                0.1.3      \r\n",
      "cffi                   1.12.3     \r\n",
      "chardet                3.0.4      \r\n",
      "click                  7.1.2      \r\n",
      "click-plugins          1.1.1      \r\n",
      "cligj                  0.7.1      \r\n",
      "cloudpickle            1.6.0      \r\n",
      "colorama               0.4.3      \r\n",
      "colorcet               2.0.2      \r\n",
      "conda                  4.8.1      \r\n",
      "conda-package-handling 1.3.11     \r\n",
      "cryptography           2.7        \r\n",
      "cycler                 0.10.0     \r\n",
      "dash                   1.18.1     \r\n",
      "dash-core-components   1.14.1     \r\n",
      "dash-html-components   1.1.1      \r\n",
      "dash-renderer          1.8.3      \r\n",
      "dash-table             4.11.1     \r\n",
      "dask                   2020.12.0  \r\n",
      "datashader             0.11.1     \r\n",
      "datashape              0.5.2      \r\n",
      "decorator              4.4.2      \r\n",
      "defusedxml             0.6.0      \r\n",
      "distributed            2020.12.0  \r\n",
      "docutils               0.15.2     \r\n",
      "earthpy                0.9.2      \r\n",
      "entrypoints            0.3        \r\n",
      "ffmpeg                 1.4        \r\n",
      "Fiona                  1.8.18     \r\n",
      "Flask                  1.1.2      \r\n",
      "Flask-Compress         1.8.0      \r\n",
      "folium                 0.11.0     \r\n",
      "fsspec                 0.8.5      \r\n",
      "future                 0.18.2     \r\n",
      "GDAL                   2.4.0      \r\n",
      "geopandas              0.8.1      \r\n",
      "geoviews               1.8.1      \r\n",
      "h5netcdf               0.8.1      \r\n",
      "h5py                   3.1.0      \r\n",
      "HeapDict               1.0.1      \r\n",
      "holoviews              1.14.0     \r\n",
      "hvplot                 0.7.0      \r\n",
      "idna                   2.8        \r\n",
      "imageio                2.9.0      \r\n",
      "importlib-metadata     3.3.0      \r\n",
      "ipykernel              5.4.2      \r\n",
      "ipython                7.19.0     \r\n",
      "ipython-genutils       0.2.0      \r\n",
      "ipywidgets             7.5.1      \r\n",
      "itsdangerous           1.1.0      \r\n",
      "jedi                   0.17.2     \r\n",
      "Jinja2                 2.11.2     \r\n",
      "jmespath               0.10.0     \r\n",
      "json5                  0.9.5      \r\n",
      "jsonschema             3.2.0      \r\n",
      "jupyter-client         6.1.7      \r\n",
      "jupyter-core           4.7.0      \r\n",
      "jupyter-telemetry      0.1.0      \r\n",
      "jupyterhub             1.2.2      \r\n",
      "jupyterlab             2.2.9      \r\n",
      "jupyterlab-pygments    0.1.2      \r\n",
      "jupyterlab-server      1.2.0      \r\n",
      "kiwisolver             1.3.1      \r\n",
      "libarchive-c           2.8        \r\n",
      "llvmlite               0.35.0     \r\n",
      "locket                 0.2.0      \r\n",
      "loganLib               1.0.1      \r\n",
      "Mako                   1.1.3      \r\n",
      "Markdown               3.3.3      \r\n",
      "MarkupSafe             1.1.1      \r\n",
      "matplotlib             3.3.3      \r\n",
      "matplotlib-venn        0.11.6     \r\n",
      "mistune                0.8.4      \r\n",
      "morecantile            2.1.0      \r\n",
      "msgpack                1.0.2      \r\n",
      "multidict              5.1.0      \r\n",
      "multipledispatch       0.6.0      \r\n",
      "munch                  2.5.0      \r\n",
      "nbclient               0.5.1      \r\n",
      "nbconvert              6.0.7      \r\n",
      "nbformat               5.0.8      \r\n",
      "nbgitpuller            0.9.0      \r\n",
      "nbresuse               0.3.6      \r\n",
      "nest-asyncio           1.4.3      \r\n",
      "networkx               2.5        \r\n",
      "notebook               6.1.5      \r\n",
      "nteract-on-jupyter     2.1.3      \r\n",
      "numba                  0.52.0     \r\n",
      "numpy                  1.19.4     \r\n",
      "oauthlib               3.1.0      \r\n",
      "packaging              20.8       \r\n",
      "pamela                 1.0.0      \r\n",
      "pandas                 1.1.5      \r\n",
      "pandocfilters          1.4.3      \r\n",
      "panel                  0.10.2     \r\n",
      "param                  1.10.0     \r\n",
      "parso                  0.7.1      \r\n",
      "partd                  1.1.0      \r\n",
      "patsy                  0.5.1      \r\n",
      "pexpect                4.8.0      \r\n",
      "pickleshare            0.7.5      \r\n",
      "pika                   1.1.0      \r\n",
      "Pillow                 8.0.1      \r\n",
      "pip                    19.1.1     \r\n",
      "plotly                 4.14.1     \r\n",
      "plotly-express         0.4.1      \r\n",
      "prometheus-client      0.9.0      \r\n",
      "prompt-toolkit         3.0.8      \r\n",
      "psutil                 5.8.0      \r\n",
      "ptyprocess             0.6.0      \r\n",
      "pyasn1                 0.4.8      \r\n",
      "pycosat                0.6.3      \r\n",
      "pycparser              2.19       \r\n",
      "pyct                   0.4.6      \r\n",
      "pydantic               1.7.3      \r\n",
      "Pygments               2.7.3      \r\n",
      "pyOpenSSL              19.0.0     \r\n",
      "pyparsing              2.4.7      \r\n",
      "pyproj                 3.0.0.post1\r\n",
      "pyrsistent             0.17.3     \r\n",
      "pyshp                  2.1.2      \r\n",
      "PySocks                1.7.0      \r\n",
      "python-dateutil        2.8.1      \r\n",
      "python-editor          1.0.4      \r\n",
      "python-json-logger     2.0.1      \r\n",
      "pytz                   2020.4     \r\n",
      "pyviz-comms            0.7.6      \r\n",
      "PyWavelets             1.1.1      \r\n",
      "PyYAML                 5.3.1      \r\n",
      "pyzmq                  20.0.0     \r\n",
      "rasterio               1.1.8      \r\n",
      "requests               2.22.0     \r\n",
      "retrying               1.3.3      \r\n",
      "rio-cogeo              2.1.0      \r\n",
      "rioxarray              0.1.1      \r\n",
      "rsa                    4.5        \r\n",
      "ruamel-yaml            0.15.46    \r\n",
      "ruamel.yaml            0.16.12    \r\n",
      "ruamel.yaml.clib       0.2.2      \r\n",
      "s3fs                   0.5.2      \r\n",
      "s3transfer             0.3.3      \r\n",
      "scikit-image           0.18.1     \r\n",
      "scipy                  1.5.4      \r\n",
      "seaborn                0.11.1     \r\n",
      "Send2Trash             1.5.0      \r\n",
      "setuptools             51.1.1     \r\n",
      "Shapely                1.7.1      \r\n",
      "six                    1.15.0     \r\n",
      "snuggs                 1.4.7      \r\n",
      "sortedcontainers       2.3.0      \r\n",
      "SQLAlchemy             1.3.22     \r\n",
      "statsmodels            0.12.1     \r\n",
      "tblib                  1.7.0      \r\n",
      "terminado              0.9.1      \r\n",
      "testpath               0.4.4      \r\n",
      "tifffile               2020.12.8  \r\n",
      "toolz                  0.11.1     \r\n",
      "tornado                5.1.1      \r\n",
      "tqdm                   4.32.1     \r\n",
      "traitlets              5.0.5      \r\n",
      "typing-extensions      3.7.4.3    \r\n",
      "urllib3                1.25.11    \r\n",
      "wcwidth                0.2.5      \r\n",
      "webencodings           0.5.1      \r\n",
      "Werkzeug               1.0.1      \r\n",
      "wheel                  0.33.4     \r\n",
      "widgetsnbextension     3.5.1      \r\n",
      "wrapt                  1.12.1     \r\n",
      "xarray                 0.16.2     \r\n",
      "yarl                   1.6.3      \r\n",
      "zict                   2.0.0      \r\n",
      "zipp                   3.4.0      \r\n"
     ]
    }
   ],
   "source": [
    "! pip list"
   ]
  },
  {
   "cell_type": "code",
   "execution_count": 1,
   "metadata": {},
   "outputs": [
    {
     "name": "stdout",
     "output_type": "stream",
     "text": [
      "Sat Feb  6 18:17:19 UTC 2021\r\n"
     ]
    }
   ],
   "source": [
    "! date"
   ]
  },
  {
   "cell_type": "code",
   "execution_count": null,
   "metadata": {},
   "outputs": [],
   "source": []
  }
 ],
 "metadata": {
  "kernelspec": {
   "display_name": "Python 3",
   "language": "python",
   "name": "python3"
  },
  "language_info": {
   "codemirror_mode": {
    "name": "ipython",
    "version": 3
   },
   "file_extension": ".py",
   "mimetype": "text/x-python",
   "name": "python",
   "nbconvert_exporter": "python",
   "pygments_lexer": "ipython3",
   "version": "3.7.3"
  }
 },
 "nbformat": 4,
 "nbformat_minor": 4
}
