{
 "cells": [
  {
   "cell_type": "code",
   "execution_count": 6,
   "metadata": {},
   "outputs": [],
   "source": [
    "import sys\n",
    "import boto3\n",
    "import logging\n",
    "\n",
    "\n",
    "def bucket_analyze(bucket, prefix):\n",
    "\n",
    "    print(\"bucket\", bucket)\n",
    "    print(\"prefix\", prefix)\n",
    "\n",
    "    bucket_name = bucket\n",
    "    prefix = prefix\n",
    "\n",
    "    s3 = boto3.resource('s3')\n",
    "    bucket = s3.Bucket(bucket_name)\n",
    "    cnt=0\n",
    "    storage_class_h = {'STANDARD' : 0,\n",
    "                   'GLACIER' : 0,\n",
    "                   'INTELLIGENT_TIERING' : 0,\n",
    "                  }\n",
    "    sum_class_h = {'STANDARD' : 0,\n",
    "                   'GLACIER' : 0,\n",
    "                   'INTELLIGENT_TIERING' : 0,\n",
    "                  }\n",
    "    sum = 0\n",
    "    for obj in bucket.objects.filter(Prefix=prefix):\n",
    "        storage_class_h[obj.storage_class] = storage_class_h[obj.storage_class] + 1\n",
    "        cnt = cnt + 1\n",
    "        sum = sum + obj.size\n",
    "        sum_class_h[obj.storage_class] = sum_class_h[obj.storage_class] + obj.size\n",
    "\n",
    "    print (\"COUNT=\", cnt)\n",
    "    for ky in storage_class_h.keys():\n",
    "        print(ky, storage_class_h[ky])\n",
    "        sum = sum_class_h[ky]\n",
    "        print(ky, sum_class_h[ky])\n",
    "        gig = sum/(1024*1024*1024)\n",
    "        print (ky, \"GBYTES=\", gig)\n",
    "        if ky == 'GLACIER': \n",
    "            cost=.004\n",
    "        else: \n",
    "            cost=.023\n",
    "        print (ky, \"Cost/Month=\", gig * cost)\n",
    "        print (\"----\" * 25)\n",
    "        \n",
    "                                                  "
   ]
  },
  {
   "cell_type": "code",
   "execution_count": 7,
   "metadata": {},
   "outputs": [],
   "source": [
    "bucket_name='eco-w1'\n",
    "prefix='in0'"
   ]
  },
  {
   "cell_type": "code",
   "execution_count": 8,
   "metadata": {},
   "outputs": [
    {
     "name": "stdout",
     "output_type": "stream",
     "text": [
      "bucket eco-w1\n",
      "prefix in0\n",
      "COUNT= 61\n",
      "STANDARD 61\n",
      "STANDARD 440124959423\n",
      "STANDARD GBYTES= 409.89831036236137\n",
      "STANDARD Cost/Month= 9.427661138334312\n",
      "----------------------------------------------------------------------------------------------------\n",
      "GLACIER 0\n",
      "GLACIER 0\n",
      "GLACIER GBYTES= 0.0\n",
      "GLACIER Cost/Month= 0.0\n",
      "----------------------------------------------------------------------------------------------------\n",
      "INTELLIGENT_TIERING 0\n",
      "INTELLIGENT_TIERING 0\n",
      "INTELLIGENT_TIERING GBYTES= 0.0\n",
      "INTELLIGENT_TIERING Cost/Month= 0.0\n",
      "----------------------------------------------------------------------------------------------------\n"
     ]
    }
   ],
   "source": [
    "bucket_analyze(bucket_name, prefix)\n"
   ]
  },
  {
   "cell_type": "code",
   "execution_count": 10,
   "metadata": {},
   "outputs": [
    {
     "name": "stdout",
     "output_type": "stream",
     "text": [
      "bucket eco-w1\n",
      "prefix in1\n",
      "COUNT= 39\n",
      "STANDARD 39\n",
      "STANDARD 207995951919\n",
      "STANDARD GBYTES= 193.71132545080036\n",
      "STANDARD Cost/Month= 4.455360485368408\n",
      "----------------------------------------------------------------------------------------------------\n",
      "GLACIER 0\n",
      "GLACIER 0\n",
      "GLACIER GBYTES= 0.0\n",
      "GLACIER Cost/Month= 0.0\n",
      "----------------------------------------------------------------------------------------------------\n",
      "INTELLIGENT_TIERING 0\n",
      "INTELLIGENT_TIERING 0\n",
      "INTELLIGENT_TIERING GBYTES= 0.0\n",
      "INTELLIGENT_TIERING Cost/Month= 0.0\n",
      "----------------------------------------------------------------------------------------------------\n"
     ]
    }
   ],
   "source": [
    "bucket_name='eco-w1'\n",
    "prefix='in1'\n",
    "bucket_analyze(bucket_name, prefix)\n"
   ]
  },
  {
   "cell_type": "code",
   "execution_count": 11,
   "metadata": {},
   "outputs": [
    {
     "name": "stdout",
     "output_type": "stream",
     "text": [
      "bucket eco-w1\n",
      "prefix \n",
      "COUNT= 101\n",
      "STANDARD 101\n",
      "STANDARD 648120911364\n",
      "STANDARD GBYTES= 603.6096358336508\n",
      "STANDARD Cost/Month= 13.883021624173969\n",
      "----------------------------------------------------------------------------------------------------\n",
      "GLACIER 0\n",
      "GLACIER 0\n",
      "GLACIER GBYTES= 0.0\n",
      "GLACIER Cost/Month= 0.0\n",
      "----------------------------------------------------------------------------------------------------\n",
      "INTELLIGENT_TIERING 0\n",
      "INTELLIGENT_TIERING 0\n",
      "INTELLIGENT_TIERING GBYTES= 0.0\n",
      "INTELLIGENT_TIERING Cost/Month= 0.0\n",
      "----------------------------------------------------------------------------------------------------\n"
     ]
    }
   ],
   "source": [
    "bucket_name='eco-w1'\n",
    "prefix=''\n",
    "bucket_analyze(bucket_name, prefix)\n"
   ]
  },
  {
   "cell_type": "code",
   "execution_count": 12,
   "metadata": {},
   "outputs": [],
   "source": [
    "EBS_AVG_BOGEY = 25 #25 dollars rough estimate\n",
    "\n",
    "Number_of_Instances_Dead_or_Alive = 5\n",
    "\n",
    "total_ebs_dollars = Number_of_Instances_Dead_or_Alive * EBS_AVG_BOGEY"
   ]
  },
  {
   "cell_type": "code",
   "execution_count": 17,
   "metadata": {},
   "outputs": [
    {
     "name": "stdout",
     "output_type": "stream",
     "text": [
      "EBS$: $125\n"
     ]
    }
   ],
   "source": [
    "print(\"EBS$:\",f'${total_ebs_dollars}')"
   ]
  },
  {
   "cell_type": "code",
   "execution_count": null,
   "metadata": {},
   "outputs": [],
   "source": []
  }
 ],
 "metadata": {
  "kernelspec": {
   "display_name": "Python 3",
   "language": "python",
   "name": "python3"
  },
  "language_info": {
   "codemirror_mode": {
    "name": "ipython",
    "version": 3
   },
   "file_extension": ".py",
   "mimetype": "text/x-python",
   "name": "python",
   "nbconvert_exporter": "python",
   "pygments_lexer": "ipython3",
   "version": "3.7.3"
  }
 },
 "nbformat": 4,
 "nbformat_minor": 4
}
