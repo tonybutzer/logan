{
 "cells": [
  {
   "cell_type": "markdown",
   "metadata": {},
   "source": [
    "https://rangelands.app/"
   ]
  },
  {
   "cell_type": "markdown",
   "metadata": {},
   "source": [
    "https://rangelands.app/rap/?biomass_t=herbaceous&ll=38.4262,-123.4373&z=4&landcover_o=0.53&landcover_t=afgc&landcover_y=1987&year=2015\n",
    "    \n",
    "https://rangelands.app/rap/"
   ]
  },
  {
   "cell_type": "code",
   "execution_count": null,
   "metadata": {},
   "outputs": [],
   "source": [
    "#! pip install --user rioxarray"
   ]
  },
  {
   "cell_type": "code",
   "execution_count": null,
   "metadata": {},
   "outputs": [],
   "source": [
    "import rasterio\n",
    "import xarray as xr\n",
    "import hvplot.xarray\n",
    "import geoviews as gv\n",
    "import rioxarray as rx"
   ]
  },
  {
   "cell_type": "code",
   "execution_count": null,
   "metadata": {},
   "outputs": [],
   "source": [
    "import fsspec\n",
    "fs = fsspec.filesystem('s3', anon=False, requester_pays=True)\n",
    "\n",
    "# return all the COGS for a given year\n",
    "def get_tifs(last_prefix):\n",
    "    files = fs.ls(f'eco-w1/in1/{last_prefix}')\n",
    "    return [f for f in files if f.endswith('tif')]\n",
    "\n",
    "\n",
    "tif_list = get_tifs('rapv2_cog')\n",
    "\n",
    "tif_list[0]\n",
    "\n"
   ]
  },
  {
   "cell_type": "code",
   "execution_count": null,
   "metadata": {},
   "outputs": [],
   "source": [
    "import rasterio\n",
    "import xarray as xr\n",
    "\n",
    "#returns an xarray DA\n",
    "def overview_ugly_xr_read(s3_tif_object):\n",
    "    da = xr.open_rasterio(f's3://{s3_tif_object}')\n",
    "    src = rasterio.open(f's3://{s3_tif_object}', 'r')\n",
    "    #nsub = 4  # original scale factor\n",
    "    #nsub = 64\n",
    "    nsub=128\n",
    "    nsub_half = int(nsub/2)\n",
    "    data = src.read(out_shape=(1, int(src.height / nsub), int(src.width / nsub)))\n",
    "    DA = xr.DataArray(data, dims=da.dims, coords=[da.band, da.y[nsub_half:-nsub_half:nsub], da.x[nsub_half:-nsub_half:nsub]])\n",
    "    DA.attrs = da.attrs\n",
    "    return(DA)"
   ]
  },
  {
   "cell_type": "code",
   "execution_count": null,
   "metadata": {},
   "outputs": [],
   "source": [
    "cog_url = tif_list[0]\n",
    "cog_url"
   ]
  },
  {
   "cell_type": "markdown",
   "metadata": {},
   "source": [
    "# Another look at the overviews"
   ]
  },
  {
   "cell_type": "code",
   "execution_count": null,
   "metadata": {},
   "outputs": [],
   "source": [
    "src = rasterio.open(f's3://{cog_url}', 'r')\n",
    "[src.overviews(i) for i in src.indexes]"
   ]
  },
  {
   "cell_type": "code",
   "execution_count": null,
   "metadata": {},
   "outputs": [],
   "source": [
    "def ov_sz(src):\n",
    "    print('Full Height: ',src.height)\n",
    "    print('Full, Width:',src.width)\n",
    "    for i in src.indexes:\n",
    "        scales = src.overviews(i)\n",
    "        print(scales)\n",
    "        for scale in scales:\n",
    "            print((int(src.height/scale),int(src.width/scale)))"
   ]
  },
  {
   "cell_type": "code",
   "execution_count": null,
   "metadata": {},
   "outputs": [],
   "source": [
    "ov_sz(src)"
   ]
  },
  {
   "cell_type": "markdown",
   "metadata": {},
   "source": [
    "# Down scale to a quick viz size."
   ]
  },
  {
   "cell_type": "code",
   "execution_count": null,
   "metadata": {},
   "outputs": [],
   "source": [
    "overview=6\n",
    "print(src.overviews(1)[overview])\n",
    "scale=src.overviews(1)[overview]\n",
    "print((int(src.height/scale),int(src.width/scale)))\n",
    "# 1/128 down scaled!"
   ]
  },
  {
   "cell_type": "code",
   "execution_count": null,
   "metadata": {},
   "outputs": [],
   "source": [
    "def overview_pretty_xr_read(s3_tif_object):\n",
    "    da = rx.open_rasterio(f's3://{s3_tif_object}', masked=True, overview_level=6)\n",
    "   \n",
    "    return(da)"
   ]
  },
  {
   "cell_type": "code",
   "execution_count": null,
   "metadata": {},
   "outputs": [],
   "source": [
    "years = range(1984,2012)\n",
    "years"
   ]
  },
  {
   "cell_type": "code",
   "execution_count": null,
   "metadata": {},
   "outputs": [],
   "source": [
    "%%time\n",
    "howmany = len(years)\n",
    "dalist =[overview_pretty_xr_read(tif) for tif in tif_list[:howmany]]\n",
    "\n",
    "da = xr.concat(dalist, dim='band')\n",
    "da = da.rename({'band':'year'})"
   ]
  },
  {
   "cell_type": "code",
   "execution_count": null,
   "metadata": {},
   "outputs": [],
   "source": [
    "da = da.assign_coords(year=years)"
   ]
  },
  {
   "cell_type": "code",
   "execution_count": null,
   "metadata": {},
   "outputs": [],
   "source": [
    "#da.dims\n",
    "da.coords"
   ]
  },
  {
   "cell_type": "code",
   "execution_count": null,
   "metadata": {},
   "outputs": [],
   "source": [
    "import hvplot.xarray\n",
    "\n",
    "img_figure = da.hvplot.image(dynamic=False,rasterize=True,grid=True, clim=(0,50),\n",
    "                             invert=False, width=650, height=500, cmap='OrRd')"
   ]
  },
  {
   "cell_type": "code",
   "execution_count": null,
   "metadata": {
    "scrolled": false
   },
   "outputs": [],
   "source": [
    "img_figure.hist()"
   ]
  },
  {
   "cell_type": "code",
   "execution_count": null,
   "metadata": {},
   "outputs": [],
   "source": [
    "da.dims"
   ]
  },
  {
   "cell_type": "code",
   "execution_count": null,
   "metadata": {},
   "outputs": [],
   "source": [
    "da"
   ]
  },
  {
   "cell_type": "code",
   "execution_count": null,
   "metadata": {},
   "outputs": [],
   "source": []
  }
 ],
 "metadata": {
  "kernelspec": {
   "display_name": "Python 3",
   "language": "python",
   "name": "python3"
  },
  "language_info": {
   "codemirror_mode": {
    "name": "ipython",
    "version": 3
   },
   "file_extension": ".py",
   "mimetype": "text/x-python",
   "name": "python",
   "nbconvert_exporter": "python",
   "pygments_lexer": "ipython3",
   "version": "3.7.3"
  }
 },
 "nbformat": 4,
 "nbformat_minor": 4
}
