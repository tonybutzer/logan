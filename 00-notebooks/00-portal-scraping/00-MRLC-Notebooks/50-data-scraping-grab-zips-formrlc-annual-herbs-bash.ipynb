{
 "cells": [
  {
   "cell_type": "markdown",
   "metadata": {},
   "source": [
    "# Note these are in S3 in us-west-2\n",
    "## and so is the eco project - so are we\n",
    "## so using wget is really really fast\n",
    "\n",
    "#### even though this is 100Gigabytes of raster imagery"
   ]
  },
  {
   "cell_type": "markdown",
   "metadata": {},
   "source": [
    "# URL List\n",
    "\n",
    "## Fractional\n",
    "- https://s3-us-west-2.amazonaws.com/mrlc/Annual_Herb_1985_1995.zip\n",
    "- https://s3-us-west-2.amazonaws.com/mrlc/Annual_Herb_1996_2006.zip\n",
    "- https://s3-us-west-2.amazonaws.com/mrlc/Annual_Herb_2007_2018.zip\n",
    "\n",
    "## Component\n",
    "- https://s3-us-west-2.amazonaws.com/mrlc/Herb_1985_1995.zip\n",
    "- https://s3-us-west-2.amazonaws.com/mrlc/Herb_1996_2006.zip\n",
    "- https://s3-us-west-2.amazonaws.com/mrlc/Herb_2007_2018.zip"
   ]
  },
  {
   "cell_type": "code",
   "execution_count": 1,
   "metadata": {},
   "outputs": [
    {
     "name": "stdout",
     "output_type": "stream",
     "text": [
      "Filesystem      Size  Used Avail Use% Mounted on\r\n",
      "/dev/nvme0n1p1  427G   37G  391G   9% /\r\n"
     ]
    }
   ],
   "source": [
    "! df -h ."
   ]
  },
  {
   "cell_type": "code",
   "execution_count": 2,
   "metadata": {},
   "outputs": [
    {
     "name": "stdout",
     "output_type": "stream",
     "text": [
      "--2020-12-26 12:09:52--  https://s3-us-west-2.amazonaws.com/mrlc/Annual_Herb_1985_1995.zip\n",
      "Resolving s3-us-west-2.amazonaws.com (s3-us-west-2.amazonaws.com)... 52.218.244.184\n",
      "Connecting to s3-us-west-2.amazonaws.com (s3-us-west-2.amazonaws.com)|52.218.244.184|:443... connected.\n",
      "HTTP request sent, awaiting response... 200 OK\n",
      "Length: 10086708780 (9.4G) [application/zip]\n",
      "Saving to: ‘Annual_Herb_1985_1995.zip’\n",
      "\n",
      "Annual_Herb_1985_19 100%[===================>]   9.39G  36.6MB/s    in 4m 6s   \n",
      "\n",
      "2020-12-26 12:13:59 (39.1 MB/s) - ‘Annual_Herb_1985_1995.zip’ saved [10086708780/10086708780]\n",
      "\n"
     ]
    }
   ],
   "source": [
    "# ! wget https://s3-us-west-2.amazonaws.com/mrlc/Annual_Herb_1985_1995.zip"
   ]
  },
  {
   "cell_type": "code",
   "execution_count": 4,
   "metadata": {},
   "outputs": [
    {
     "name": "stdout",
     "output_type": "stream",
     "text": [
      "92K\t./.ipynb_checkpoints\r\n",
      "9.4G\t.\r\n",
      "total 9.4G\r\n",
      "-rw-r--r-- 1 jupyter-butzer jupyter-butzer  44K Dec 26 12:14 99-data-scraping-practice-Copy1.ipynb\r\n",
      "-rw-r--r-- 1 jupyter-butzer jupyter-butzer  43K Dec 26 12:07 99-data-scraping-practice.ipynb\r\n",
      "-rw-r--r-- 1 jupyter-butzer jupyter-butzer 9.4G Jun  8  2020 Annual_Herb_1985_1995.zip\r\n",
      "-rw-r--r-- 1 jupyter-butzer jupyter-butzer  33K Dec 23 16:51 a.tif.aux.xml\r\n",
      "-rw-r--r-- 1 jupyter-butzer jupyter-butzer  439 Dec 23 16:51 scene.geojson\r\n"
     ]
    }
   ],
   "source": [
    "! du -hd 2 . ; ls -lh"
   ]
  },
  {
   "cell_type": "code",
   "execution_count": 6,
   "metadata": {},
   "outputs": [
    {
     "name": "stdout",
     "output_type": "stream",
     "text": [
      "https://s3-us-west-2.amazonaws.com/mrlc/Annual_Herb_1996_2006.zip\n",
      "https://s3-us-west-2.amazonaws.com/mrlc/Annual_Herb_2007_2018.zip\n",
      "https://s3-us-west-2.amazonaws.com/mrlc/Herb_1985_1995.zip\n",
      "https://s3-us-west-2.amazonaws.com/mrlc/Herb_1996_2006.zip\n",
      "https://s3-us-west-2.amazonaws.com/mrlc/Herb_2007_2018.zip\n"
     ]
    }
   ],
   "source": [
    "%%bash\n",
    "rm -f grab_list.txt\n",
    "\n",
    "echo https://s3-us-west-2.amazonaws.com/mrlc/Annual_Herb_1996_2006.zip > grab_list.txt\n",
    "echo https://s3-us-west-2.amazonaws.com/mrlc/Annual_Herb_2007_2018.zip >> grab_list.txt\n",
    "\n",
    "echo https://s3-us-west-2.amazonaws.com/mrlc/Herb_1985_1995.zip >> grab_list.txt\n",
    "echo https://s3-us-west-2.amazonaws.com/mrlc/Herb_1996_2006.zip >> grab_list.txt\n",
    "echo https://s3-us-west-2.amazonaws.com/mrlc/Herb_2007_2018.zip >> grab_list.txt\n",
    "\n",
    "cat grab_list.txt"
   ]
  },
  {
   "cell_type": "code",
   "execution_count": null,
   "metadata": {},
   "outputs": [],
   "source": [
    "# %%bash\n",
    "# for i in `cat grab_list.txt`; do {\n",
    "#    wget $i;\n",
    "#    ls -lh *.zip;\n",
    "# }; done"
   ]
  },
  {
   "cell_type": "code",
   "execution_count": 3,
   "metadata": {},
   "outputs": [
    {
     "name": "stdout",
     "output_type": "stream",
     "text": [
      "total 96G\r\n",
      "-rw-r--r-- 1 jupyter-butzer jupyter-butzer  44K Dec 26 14:21 00-data-scraping-grab-zips.ipynb\r\n",
      "-rw-r--r-- 1 jupyter-butzer jupyter-butzer  43K Dec 26 12:07 99-data-scraping-practice.ipynb\r\n",
      "-rw-r--r-- 1 jupyter-butzer jupyter-butzer 9.4G Jun  8  2020 Annual_Herb_1985_1995.zip\r\n",
      "-rw-r--r-- 1 jupyter-butzer jupyter-butzer 9.6G Jun  8  2020 Annual_Herb_1996_2006.zip\r\n",
      "-rw-r--r-- 1 jupyter-butzer jupyter-butzer 9.6G Jun  8  2020 Annual_Herb_2007_2018.zip\r\n",
      "-rw-r--r-- 1 jupyter-butzer jupyter-butzer  25G Jun  8  2020 Herb_1985_1995.zip\r\n",
      "-rw-r--r-- 1 jupyter-butzer jupyter-butzer  25G Jun  8  2020 Herb_1996_2006.zip\r\n",
      "-rw-r--r-- 1 jupyter-butzer jupyter-butzer  20G Dec 26 12:55 Herb_2007_2018.zip\r\n",
      "-rw-r--r-- 1 jupyter-butzer jupyter-butzer  33K Dec 23 16:51 a.tif.aux.xml\r\n",
      "-rw-r--r-- 1 jupyter-butzer jupyter-butzer  309 Dec 26 12:17 grab_list.txt\r\n",
      "-rw-r--r-- 1 jupyter-butzer jupyter-butzer  439 Dec 23 16:51 scene.geojson\r\n"
     ]
    }
   ],
   "source": [
    "! ls -lh"
   ]
  },
  {
   "cell_type": "code",
   "execution_count": 4,
   "metadata": {},
   "outputs": [
    {
     "name": "stdout",
     "output_type": "stream",
     "text": [
      "Annual_Herb_1985_1995.zip  Annual_Herb_2007_2018.zip  Herb_1996_2006.zip\r\n",
      "Annual_Herb_1996_2006.zip  Herb_1985_1995.zip         Herb_2007_2018.zip\r\n"
     ]
    }
   ],
   "source": [
    "ls *.zip"
   ]
  },
  {
   "cell_type": "code",
   "execution_count": 7,
   "metadata": {},
   "outputs": [
    {
     "name": "stderr",
     "output_type": "stream",
     "text": [
      "IOPub data rate exceeded.\n",
      "The notebook server will temporarily stop sending output\n",
      "to the client in order to avoid crashing it.\n",
      "To change this limit, set the config variable\n",
      "`--NotebookApp.iopub_data_rate_limit`.\n",
      "\n",
      "Current values:\n",
      "NotebookApp.iopub_data_rate_limit=1000000.0 (bytes/sec)\n",
      "NotebookApp.rate_limit_window=3.0 (secs)\n",
      "\n"
     ]
    }
   ],
   "source": [
    "%%bash\n",
    "for i in `ls *.zip`; do {\n",
    "    echo $i\n",
    "    aws s3 mv $i s3://eco-w1/in0/mrlc_zip/\n",
    "}; done"
   ]
  },
  {
   "cell_type": "markdown",
   "metadata": {},
   "source": [
    "# note the mv command will delete the local copy\n",
    "### this is what we want"
   ]
  },
  {
   "cell_type": "code",
   "execution_count": 8,
   "metadata": {},
   "outputs": [
    {
     "name": "stdout",
     "output_type": "stream",
     "text": [
      "ls: cannot access '*.zip': No such file or directory\r\n"
     ]
    }
   ],
   "source": [
    "! ls *.zip"
   ]
  },
  {
   "cell_type": "code",
   "execution_count": 1,
   "metadata": {},
   "outputs": [
    {
     "name": "stdout",
     "output_type": "stream",
     "text": [
      "2020-12-26 14:25:49    9.4 GiB Annual_Herb_1985_1995.zip\r\n",
      "2020-12-26 14:28:47    9.5 GiB Annual_Herb_1996_2006.zip\r\n",
      "2020-12-26 14:31:47    9.5 GiB Annual_Herb_2007_2018.zip\r\n",
      "2020-12-26 14:34:44   24.1 GiB Herb_1985_1995.zip\r\n",
      "2020-12-26 14:42:11   24.1 GiB Herb_1996_2006.zip\r\n",
      "2020-12-26 14:50:07   19.4 GiB Herb_2007_2018.zip\r\n"
     ]
    }
   ],
   "source": [
    "! aws s3 ls s3://eco-w1/in0/mrlc_zip/ --human"
   ]
  },
  {
   "cell_type": "markdown",
   "metadata": {},
   "source": [
    "# we could delete these from s3 - since the pipeline is so fast to run\n",
    "# or place them in glacier"
   ]
  },
  {
   "cell_type": "code",
   "execution_count": 11,
   "metadata": {},
   "outputs": [
    {
     "data": {
      "text/plain": [
       "0.13333333333333333"
      ]
     },
     "execution_count": 11,
     "metadata": {},
     "output_type": "execute_result"
    }
   ],
   "source": [
    ".004/.03"
   ]
  },
  {
   "cell_type": "code",
   "execution_count": null,
   "metadata": {},
   "outputs": [],
   "source": [
    "# 13 percent the cost"
   ]
  }
 ],
 "metadata": {
  "kernelspec": {
   "display_name": "Python 3",
   "language": "python",
   "name": "python3"
  },
  "language_info": {
   "codemirror_mode": {
    "name": "ipython",
    "version": 3
   },
   "file_extension": ".py",
   "mimetype": "text/x-python",
   "name": "python",
   "nbconvert_exporter": "python",
   "pygments_lexer": "ipython3",
   "version": "3.7.3"
  }
 },
 "nbformat": 4,
 "nbformat_minor": 4
}
