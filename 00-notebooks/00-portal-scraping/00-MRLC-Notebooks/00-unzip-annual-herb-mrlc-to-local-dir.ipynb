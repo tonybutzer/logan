{
 "cells": [
  {
   "cell_type": "code",
   "execution_count": 1,
   "metadata": {},
   "outputs": [],
   "source": [
    "import s3fs \n",
    "import boto3\n",
    "import zipfile\n",
    "import os\n"
   ]
  },
  {
   "cell_type": "code",
   "execution_count": 2,
   "metadata": {},
   "outputs": [
    {
     "name": "stdout",
     "output_type": "stream",
     "text": [
      "2020-12-26 14:25:49 10086708780 Annual_Herb_1985_1995.zip\r\n",
      "2020-12-26 14:28:47 10211619774 Annual_Herb_1996_2006.zip\r\n",
      "2020-12-26 14:31:47 10245707594 Annual_Herb_2007_2018.zip\r\n",
      "2020-12-26 14:34:44 25895252470 Herb_1985_1995.zip\r\n",
      "2020-12-26 14:42:11 25858781544 Herb_1996_2006.zip\r\n",
      "2020-12-26 14:50:07 20779156209 Herb_2007_2018.zip\r\n"
     ]
    }
   ],
   "source": [
    "!aws s3 ls eco-w1/in0/mrlc_zip/"
   ]
  },
  {
   "cell_type": "code",
   "execution_count": 3,
   "metadata": {},
   "outputs": [],
   "source": [
    "import shutil\n"
   ]
  },
  {
   "cell_type": "code",
   "execution_count": 4,
   "metadata": {},
   "outputs": [
    {
     "data": {
      "text/plain": [
       "['eco-w1/in0/cflux', 'eco-w1/in0/mrlc_zip', 'eco-w1/in0/rapv2']"
      ]
     },
     "execution_count": 4,
     "metadata": {},
     "output_type": "execute_result"
    }
   ],
   "source": [
    "s3 = s3fs.S3FileSystem()\n",
    "bucket_path='eco-w1/in0/'\n",
    "s3.ls(bucket_path)"
   ]
  },
  {
   "cell_type": "code",
   "execution_count": 5,
   "metadata": {},
   "outputs": [],
   "source": [
    "bucket_path='eco-w1/in0/mrlc_zip'\n",
    "\n",
    "mrlc_files=s3.ls(bucket_path)"
   ]
  },
  {
   "cell_type": "code",
   "execution_count": 6,
   "metadata": {},
   "outputs": [
    {
     "name": "stdout",
     "output_type": "stream",
     "text": [
      "eco-w1/in0/mrlc_zip/Annual_Herb_1985_1995.zip\n",
      "eco-w1/in0/mrlc_zip/Annual_Herb_1996_2006.zip\n",
      "eco-w1/in0/mrlc_zip/Annual_Herb_2007_2018.zip\n"
     ]
    }
   ],
   "source": [
    "for file_obj in mrlc_files:\n",
    "    if 'Annual' in file_obj:\n",
    "        print(file_obj)"
   ]
  },
  {
   "cell_type": "code",
   "execution_count": 7,
   "metadata": {},
   "outputs": [],
   "source": [
    "\n",
    "def download_s3obj_to_local_file(s3_full_path, local_dir):\n",
    "    bucket_name = s3_full_path.split('/')[0]\n",
    "    object_name = '/'.join(s3_full_path.split('/')[1:])\n",
    "    local_full_path = local_dir + '/' + s3_full_path.split('/')[-1]\n",
    "    \n",
    "    s3 = boto3.client('s3')\n",
    "    s3.download_file(bucket_name, object_name, local_full_path)"
   ]
  },
  {
   "cell_type": "code",
   "execution_count": 8,
   "metadata": {},
   "outputs": [],
   "source": [
    "import subprocess\n",
    "def subprocess_cmd(command):\n",
    "    print (\"+++\"*20)\n",
    "    print (\"CMD is -- %s\" % command)\n",
    "    print (\"+++\"*20)\n",
    "    process = subprocess.Popen(command,stdout=subprocess.PIPE, shell=True)\n",
    "    proc_stdout = process.communicate()[0].strip()\n",
    "    stupidBytesObject = proc_stdout\n",
    "    outStr = (stupidBytesObject.decode(\"utf-8\"))\n",
    "    print(outStr)\n",
    "    return(outStr)\n",
    "\n",
    "\n",
    "def s3sync(src,dst):\n",
    "        print (\"hello from s3sync copying dir \" + src)\n",
    "        print (\"hello from s3sync copying to dir \" + dst)\n",
    "        pushcmd = \"aws s3 sync %s %s\" % (src, dst)\n",
    "        print (pushcmd)\n",
    "        subprocess_cmd(pushcmd)"
   ]
  },
  {
   "cell_type": "code",
   "execution_count": 9,
   "metadata": {},
   "outputs": [],
   "source": [
    "def unzip_me(path_to_zip_file, directory_to_extract_to):\n",
    "    with zipfile.ZipFile(path_to_zip_file, 'r') as zip_ref:\n",
    "        zip_ref.extractall(directory_to_extract_to)"
   ]
  },
  {
   "cell_type": "code",
   "execution_count": 10,
   "metadata": {},
   "outputs": [],
   "source": [
    "#!rm -fr mrlc_ebs_data/"
   ]
  },
  {
   "cell_type": "code",
   "execution_count": 11,
   "metadata": {},
   "outputs": [],
   "source": [
    "def unzip_file_obj(s3_full_path, directory_to_extract_to):\n",
    "        local_full_path = local_dir + '/' + s3_full_path.split('/')[-1]\n",
    "        unzip_me(local_full_path, directory_to_extract_to)\n",
    "        print('removing file: ',local_full_path)\n",
    "        os.remove(local_full_path)"
   ]
  },
  {
   "cell_type": "code",
   "execution_count": 12,
   "metadata": {},
   "outputs": [],
   "source": [
    "def _mkdir(directory):\n",
    "    try:\n",
    "        os.stat(directory)\n",
    "    except:\n",
    "        os.mkdir(directory)"
   ]
  },
  {
   "cell_type": "code",
   "execution_count": 13,
   "metadata": {},
   "outputs": [],
   "source": [
    "def gdal_convert_img_tif(input_img, output_tif):\n",
    "    cmd = f'gdal_translate -of GTiff {input_img} {output_tif}'\n",
    "    print(cmd)\n",
    "    os.system(cmd)"
   ]
  },
  {
   "cell_type": "code",
   "execution_count": null,
   "metadata": {},
   "outputs": [],
   "source": []
  },
  {
   "cell_type": "code",
   "execution_count": 14,
   "metadata": {},
   "outputs": [],
   "source": [
    "def convert_erdas_img_to_tif(tif_output_dir):\n",
    "    arr = os.listdir(directory_to_extract_to)\n",
    "    subdir=arr[0]\n",
    "    files = os.listdir(f'{directory_to_extract_to}/{subdir}')\n",
    "    for file in files:\n",
    "        if file.endswith('.img'):\n",
    "            full_file = f'{directory_to_extract_to}/{subdir}/{file}'\n",
    "            print(full_file)\n",
    "            input_img = full_file\n",
    "            tif_file=file.replace('.img', '.tif')\n",
    "            output_tif=f'{tif_output_dir}/{tif_file}'\n",
    "            gdal_convert_img_tif(input_img, output_tif)\n",
    "    shutil.rmtree(f'{directory_to_extract_to}/{subdir}')"
   ]
  },
  {
   "cell_type": "code",
   "execution_count": 15,
   "metadata": {},
   "outputs": [
    {
     "name": "stdout",
     "output_type": "stream",
     "text": [
      "Help on function cog_create_from_tif in module loganLib.cog_func:\n",
      "\n",
      "cog_create_from_tif(src_tif, dst_cog)\n",
      "\n"
     ]
    }
   ],
   "source": [
    "from loganLib.cog_func import cog_create_from_tif\n",
    "help(cog_create_from_tif)"
   ]
  },
  {
   "cell_type": "code",
   "execution_count": 16,
   "metadata": {},
   "outputs": [],
   "source": [
    "def convert_tif_cog_single(tif_input, cog_output):\n",
    "    print(tif_input,cog_output)\n",
    "    cog_create_from_tif(tif_input,cog_output)"
   ]
  },
  {
   "cell_type": "code",
   "execution_count": 17,
   "metadata": {},
   "outputs": [],
   "source": [
    "def convert_tif_cog(tif_output_dir, cog_output_dir):\n",
    "    files = os.listdir(tif_output_dir)\n",
    "    for file in files:\n",
    "        if(file.endswith('.tif')):\n",
    "            print(file)\n",
    "            tif_input = f'{tif_output_dir}/{file}'\n",
    "            cog_output = f'{cog_output_dir}/{file}'\n",
    "            convert_tif_cog_single(tif_input, cog_output)\n",
    "            os.remove(tif_input)\n",
    "    "
   ]
  },
  {
   "cell_type": "code",
   "execution_count": 18,
   "metadata": {},
   "outputs": [],
   "source": [
    "local_dir = 'mrlc_ebs_data'\n",
    "directory_to_extract_to = 'mrlc_ebs_data/mrlc_erdas_img'\n",
    "tif_output_dir = 'mrlc_ebs_data/mrlc_tif'\n",
    "cog_output_dir = 'mrlc_ebs_data/mrlc_cog'\n",
    "s3_cog_output_path = 's3://eco-w1/in1/mrlc_cog/'"
   ]
  },
  {
   "cell_type": "code",
   "execution_count": 19,
   "metadata": {},
   "outputs": [
    {
     "name": "stdout",
     "output_type": "stream",
     "text": [
      "eco-w1/in0/mrlc_zip/Annual_Herb_2007_2018.zip\n",
      "removing file:  mrlc_ebs_data/Annual_Herb_2007_2018.zip\n",
      "mrlc_ebs_data/mrlc_erdas_img/Annual_Herb_2007_2018/nlcd_anhb_2016_mos_v1.img\n",
      "gdal_translate -of GTiff mrlc_ebs_data/mrlc_erdas_img/Annual_Herb_2007_2018/nlcd_anhb_2016_mos_v1.img mrlc_ebs_data/mrlc_tif/nlcd_anhb_2016_mos_v1.tif\n",
      "mrlc_ebs_data/mrlc_erdas_img/Annual_Herb_2007_2018/nlcd_anhb_2008_mos_v1.img\n",
      "gdal_translate -of GTiff mrlc_ebs_data/mrlc_erdas_img/Annual_Herb_2007_2018/nlcd_anhb_2008_mos_v1.img mrlc_ebs_data/mrlc_tif/nlcd_anhb_2008_mos_v1.tif\n",
      "mrlc_ebs_data/mrlc_erdas_img/Annual_Herb_2007_2018/nlcd_anhb_2018_mos_v1.img\n",
      "gdal_translate -of GTiff mrlc_ebs_data/mrlc_erdas_img/Annual_Herb_2007_2018/nlcd_anhb_2018_mos_v1.img mrlc_ebs_data/mrlc_tif/nlcd_anhb_2018_mos_v1.tif\n",
      "mrlc_ebs_data/mrlc_erdas_img/Annual_Herb_2007_2018/nlcd_anhb_2009_mos_v1.img\n",
      "gdal_translate -of GTiff mrlc_ebs_data/mrlc_erdas_img/Annual_Herb_2007_2018/nlcd_anhb_2009_mos_v1.img mrlc_ebs_data/mrlc_tif/nlcd_anhb_2009_mos_v1.tif\n",
      "mrlc_ebs_data/mrlc_erdas_img/Annual_Herb_2007_2018/nlcd_anhb_2013_mos_v1.img\n",
      "gdal_translate -of GTiff mrlc_ebs_data/mrlc_erdas_img/Annual_Herb_2007_2018/nlcd_anhb_2013_mos_v1.img mrlc_ebs_data/mrlc_tif/nlcd_anhb_2013_mos_v1.tif\n",
      "mrlc_ebs_data/mrlc_erdas_img/Annual_Herb_2007_2018/nlcd_anhb_2007_mos_v1.img\n",
      "gdal_translate -of GTiff mrlc_ebs_data/mrlc_erdas_img/Annual_Herb_2007_2018/nlcd_anhb_2007_mos_v1.img mrlc_ebs_data/mrlc_tif/nlcd_anhb_2007_mos_v1.tif\n",
      "mrlc_ebs_data/mrlc_erdas_img/Annual_Herb_2007_2018/nlcd_anhb_2014_mos_v1.img\n",
      "gdal_translate -of GTiff mrlc_ebs_data/mrlc_erdas_img/Annual_Herb_2007_2018/nlcd_anhb_2014_mos_v1.img mrlc_ebs_data/mrlc_tif/nlcd_anhb_2014_mos_v1.tif\n",
      "mrlc_ebs_data/mrlc_erdas_img/Annual_Herb_2007_2018/nlcd_anhb_2015_mos_v1.img\n",
      "gdal_translate -of GTiff mrlc_ebs_data/mrlc_erdas_img/Annual_Herb_2007_2018/nlcd_anhb_2015_mos_v1.img mrlc_ebs_data/mrlc_tif/nlcd_anhb_2015_mos_v1.tif\n",
      "mrlc_ebs_data/mrlc_erdas_img/Annual_Herb_2007_2018/nlcd_anhb_2017_mos_v1.img\n",
      "gdal_translate -of GTiff mrlc_ebs_data/mrlc_erdas_img/Annual_Herb_2007_2018/nlcd_anhb_2017_mos_v1.img mrlc_ebs_data/mrlc_tif/nlcd_anhb_2017_mos_v1.tif\n",
      "mrlc_ebs_data/mrlc_erdas_img/Annual_Herb_2007_2018/nlcd_anhb_2010_mos_v1.img\n",
      "gdal_translate -of GTiff mrlc_ebs_data/mrlc_erdas_img/Annual_Herb_2007_2018/nlcd_anhb_2010_mos_v1.img mrlc_ebs_data/mrlc_tif/nlcd_anhb_2010_mos_v1.tif\n",
      "mrlc_ebs_data/mrlc_erdas_img/Annual_Herb_2007_2018/nlcd_anhb_2011_mos_v1.img\n",
      "gdal_translate -of GTiff mrlc_ebs_data/mrlc_erdas_img/Annual_Herb_2007_2018/nlcd_anhb_2011_mos_v1.img mrlc_ebs_data/mrlc_tif/nlcd_anhb_2011_mos_v1.tif\n",
      "nlcd_anhb_2015_mos_v1.tif\n",
      "mrlc_ebs_data/mrlc_tif/nlcd_anhb_2015_mos_v1.tif mrlc_ebs_data/mrlc_cog/nlcd_anhb_2015_mos_v1.tif\n",
      "nlcd_anhb_2010_mos_v1.tif\n",
      "mrlc_ebs_data/mrlc_tif/nlcd_anhb_2010_mos_v1.tif mrlc_ebs_data/mrlc_cog/nlcd_anhb_2010_mos_v1.tif\n",
      "nlcd_anhb_2014_mos_v1.tif\n",
      "mrlc_ebs_data/mrlc_tif/nlcd_anhb_2014_mos_v1.tif mrlc_ebs_data/mrlc_cog/nlcd_anhb_2014_mos_v1.tif\n",
      "nlcd_anhb_2016_mos_v1.tif\n",
      "mrlc_ebs_data/mrlc_tif/nlcd_anhb_2016_mos_v1.tif mrlc_ebs_data/mrlc_cog/nlcd_anhb_2016_mos_v1.tif\n",
      "nlcd_anhb_2007_mos_v1.tif\n",
      "mrlc_ebs_data/mrlc_tif/nlcd_anhb_2007_mos_v1.tif mrlc_ebs_data/mrlc_cog/nlcd_anhb_2007_mos_v1.tif\n",
      "nlcd_anhb_2011_mos_v1.tif\n",
      "mrlc_ebs_data/mrlc_tif/nlcd_anhb_2011_mos_v1.tif mrlc_ebs_data/mrlc_cog/nlcd_anhb_2011_mos_v1.tif\n",
      "nlcd_anhb_2013_mos_v1.tif\n",
      "mrlc_ebs_data/mrlc_tif/nlcd_anhb_2013_mos_v1.tif mrlc_ebs_data/mrlc_cog/nlcd_anhb_2013_mos_v1.tif\n",
      "nlcd_anhb_2018_mos_v1.tif\n",
      "mrlc_ebs_data/mrlc_tif/nlcd_anhb_2018_mos_v1.tif mrlc_ebs_data/mrlc_cog/nlcd_anhb_2018_mos_v1.tif\n",
      "nlcd_anhb_2008_mos_v1.tif\n",
      "mrlc_ebs_data/mrlc_tif/nlcd_anhb_2008_mos_v1.tif mrlc_ebs_data/mrlc_cog/nlcd_anhb_2008_mos_v1.tif\n",
      "nlcd_anhb_2017_mos_v1.tif\n",
      "mrlc_ebs_data/mrlc_tif/nlcd_anhb_2017_mos_v1.tif mrlc_ebs_data/mrlc_cog/nlcd_anhb_2017_mos_v1.tif\n",
      "nlcd_anhb_2009_mos_v1.tif\n",
      "mrlc_ebs_data/mrlc_tif/nlcd_anhb_2009_mos_v1.tif mrlc_ebs_data/mrlc_cog/nlcd_anhb_2009_mos_v1.tif\n",
      "hello from s3sync copying dir mrlc_ebs_data/mrlc_cog\n",
      "hello from s3sync copying to dir s3://eco-w1/in1/mrlc_cog/\n",
      "aws s3 sync mrlc_ebs_data/mrlc_cog s3://eco-w1/in1/mrlc_cog/\n",
      "++++++++++++++++++++++++++++++++++++++++++++++++++++++++++++\n",
      "CMD is -- aws s3 sync mrlc_ebs_data/mrlc_cog s3://eco-w1/in1/mrlc_cog/\n",
      "++++++++++++++++++++++++++++++++++++++++++++++++++++++++++++\n",
      "upload: mrlc_ebs_data/mrlc_cog/nlcd_anhb_2009_mos_v1.tif to s3://eco-w1/in1/mrlc_cog/nlcd_anhb_2009_mos_v1.tif\n",
      "upload: mrlc_ebs_data/mrlc_cog/nlcd_anhb_2007_mos_v1.tif to s3://eco-w1/in1/mrlc_cog/nlcd_anhb_2007_mos_v1.tif\n",
      "upload: mrlc_ebs_data/mrlc_cog/nlcd_anhb_2008_mos_v1.tif to s3://eco-w1/in1/mrlc_cog/nlcd_anhb_2008_mos_v1.tif\n",
      "upload: mrlc_ebs_data/mrlc_cog/nlcd_anhb_2011_mos_v1.tif to s3://eco-w1/in1/mrlc_cog/nlcd_anhb_2011_mos_v1.tif\n",
      "upload: mrlc_ebs_data/mrlc_cog/nlcd_anhb_2010_mos_v1.tif to s3://eco-w1/in1/mrlc_cog/nlcd_anhb_2010_mos_v1.tif\n",
      "upload: mrlc_ebs_data/mrlc_cog/nlcd_anhb_2013_mos_v1.tif to s3://eco-w1/in1/mrlc_cog/nlcd_anhb_2013_mos_v1.tif\n",
      "upload: mrlc_ebs_data/mrlc_cog/nlcd_anhb_2016_mos_v1.tif to s3://eco-w1/in1/mrlc_cog/nlcd_anhb_2016_mos_v1.tif\n",
      "upload: mrlc_ebs_data/mrlc_cog/nlcd_anhb_2015_mos_v1.tif to s3://eco-w1/in1/mrlc_cog/nlcd_anhb_2015_mos_v1.tif\n",
      "upload: mrlc_ebs_data/mrlc_cog/nlcd_anhb_2017_mos_v1.tif to s3://eco-w1/in1/mrlc_cog/nlcd_anhb_2017_mos_v1.tif\n",
      "upload: mrlc_ebs_data/mrlc_cog/nlcd_anhb_2014_mos_v1.tif to s3://eco-w1/in1/mrlc_cog/nlcd_anhb_2014_mos_v1.tif\n",
      "upload: mrlc_ebs_data/mrlc_cog/nlcd_anhb_2018_mos_v1.tif to s3://eco-w1/in1/mrlc_cog/nlcd_anhb_2018_mos_v1.tif\n"
     ]
    }
   ],
   "source": [
    "\n",
    "_mkdir(local_dir)\n",
    "_mkdir(directory_to_extract_to)\n",
    "_mkdir(tif_output_dir)\n",
    "\n",
    "for file_obj in mrlc_files[2:3]:\n",
    "    if 'Annual' in file_obj:\n",
    "        print(file_obj)\n",
    "        _mkdir(cog_output_dir)\n",
    "        download_s3obj_to_local_file(file_obj, local_dir)\n",
    "        unzip_file_obj(file_obj,directory_to_extract_to)\n",
    "        convert_erdas_img_to_tif(tif_output_dir)\n",
    "        convert_tif_cog(tif_output_dir, cog_output_dir)\n",
    "        s3sync(cog_output_dir, s3_cog_output_path)\n",
    "        shutil.rmtree(cog_output_dir)\n",
    "\n",
    "shutil.rmtree(local_dir)\n",
    "#shutil.rmtree(directory_to_extract_to)\n",
    "#shutil.rmtree(tif_output_dir)\n"
   ]
  },
  {
   "cell_type": "code",
   "execution_count": 20,
   "metadata": {},
   "outputs": [
    {
     "name": "stdout",
     "output_type": "stream",
     "text": [
      "2021-01-31 18:56:49  754.6 MiB nlcd_anhb_1985_mos_v1.tif\n",
      "2021-01-31 18:56:49  749.2 MiB nlcd_anhb_1986_mos_v1.tif\n",
      "2021-01-31 18:56:49  752.0 MiB nlcd_anhb_1987_mos_v1.tif\n",
      "2021-01-31 18:56:49  748.7 MiB nlcd_anhb_1988_mos_v1.tif\n",
      "2021-01-31 18:56:49  742.8 MiB nlcd_anhb_1989_mos_v1.tif\n",
      "2021-01-31 18:57:38  736.2 MiB nlcd_anhb_1990_mos_v1.tif\n",
      "2021-01-31 18:57:42  742.4 MiB nlcd_anhb_1991_mos_v1.tif\n",
      "2021-01-31 18:57:45  743.4 MiB nlcd_anhb_1992_mos_v1.tif\n",
      "2021-01-31 18:57:46  742.9 MiB nlcd_anhb_1993_mos_v1.tif\n",
      "2021-01-31 18:57:48  762.0 MiB nlcd_anhb_1994_mos_v1.tif\n",
      "2021-01-31 18:58:33  761.7 MiB nlcd_anhb_1995_mos_v1.tif\n",
      "2021-01-31 23:55:33  764.0 MiB nlcd_anhb_1996_mos_v1.tif\n",
      "2021-01-31 23:55:33  746.8 MiB nlcd_anhb_1997_mos_v1.tif\n",
      "2021-01-31 23:55:33  759.0 MiB nlcd_anhb_1998_mos_v1.tif\n",
      "2021-01-31 23:55:33  764.0 MiB nlcd_anhb_1999_mos_v1.tif\n",
      "2021-01-31 23:55:33  759.3 MiB nlcd_anhb_2000_mos_v1.tif\n",
      "2021-01-31 23:56:12  763.7 MiB nlcd_anhb_2001_mos_v1.tif\n",
      "2021-01-31 23:56:24  743.7 MiB nlcd_anhb_2002_mos_v1.tif\n",
      "2021-01-31 23:56:26  743.8 MiB nlcd_anhb_2003_mos_v1.tif\n",
      "2021-01-31 23:56:37  751.1 MiB nlcd_anhb_2004_mos_v1.tif\n",
      "2021-01-31 23:56:54  767.4 MiB nlcd_anhb_2005_mos_v1.tif\n",
      "2021-01-31 23:57:04  765.1 MiB nlcd_anhb_2006_mos_v1.tif\n",
      "2021-02-01 01:34:59  744.1 MiB nlcd_anhb_2007_mos_v1.tif\n",
      "2021-02-01 01:35:00  740.7 MiB nlcd_anhb_2008_mos_v1.tif\n",
      "2021-02-01 01:34:59  744.7 MiB nlcd_anhb_2009_mos_v1.tif\n",
      "2021-02-01 01:35:00  756.2 MiB nlcd_anhb_2010_mos_v1.tif\n",
      "2021-02-01 01:35:00  761.2 MiB nlcd_anhb_2011_mos_v1.tif\n",
      "2021-02-01 01:35:49  750.7 MiB nlcd_anhb_2013_mos_v1.tif\n",
      "2021-02-01 01:35:52  756.8 MiB nlcd_anhb_2014_mos_v1.tif\n",
      "2021-02-01 01:35:54  760.5 MiB nlcd_anhb_2015_mos_v1.tif\n",
      "2021-02-01 01:36:01  772.4 MiB nlcd_anhb_2016_mos_v1.tif\n",
      "2021-02-01 01:36:06  779.5 MiB nlcd_anhb_2017_mos_v1.tif\n",
      "2021-02-01 01:36:42  774.4 MiB nlcd_anhb_2018_mos_v1.tif\n"
     ]
    }
   ],
   "source": [
    "! aws s3 ls eco-w1/in1/mrlc_cog/ --human"
   ]
  },
  {
   "cell_type": "code",
   "execution_count": 21,
   "metadata": {},
   "outputs": [
    {
     "name": "stdout",
     "output_type": "stream",
     "text": [
      "ls: cannot access 'mrlc_ebs_data/mrlc_tif': No such file or directory\n",
      "ls: cannot access 'mrlc_ebs_data/mrlc_cog': No such file or directory\n"
     ]
    }
   ],
   "source": [
    "!ls -lh 'mrlc_ebs_data/mrlc_tif'\n",
    "!ls -lh 'mrlc_ebs_data/mrlc_cog'"
   ]
  },
  {
   "cell_type": "code",
   "execution_count": 22,
   "metadata": {},
   "outputs": [
    {
     "name": "stdout",
     "output_type": "stream",
     "text": [
      "Filesystem      Size  Used Avail Use% Mounted on\r\n",
      "/dev/nvme0n1p1  427G  237G  191G  56% /\r\n"
     ]
    }
   ],
   "source": [
    "! df -h ."
   ]
  },
  {
   "cell_type": "code",
   "execution_count": 23,
   "metadata": {},
   "outputs": [
    {
     "ename": "FileNotFoundError",
     "evalue": "[Errno 2] No such file or directory: 'mrlc_ebs_data'",
     "output_type": "error",
     "traceback": [
      "\u001b[0;31m---------------------------------------------------------------------------\u001b[0m",
      "\u001b[0;31mFileNotFoundError\u001b[0m                         Traceback (most recent call last)",
      "\u001b[0;32m<ipython-input-23-d3bed8fdd733>\u001b[0m in \u001b[0;36m<module>\u001b[0;34m\u001b[0m\n\u001b[0;32m----> 1\u001b[0;31m \u001b[0marr\u001b[0m \u001b[0;34m=\u001b[0m \u001b[0mos\u001b[0m\u001b[0;34m.\u001b[0m\u001b[0mlistdir\u001b[0m\u001b[0;34m(\u001b[0m\u001b[0mlocal_dir\u001b[0m\u001b[0;34m)\u001b[0m\u001b[0;34m\u001b[0m\u001b[0;34m\u001b[0m\u001b[0m\n\u001b[0m\u001b[1;32m      2\u001b[0m \u001b[0marr\u001b[0m\u001b[0;34m\u001b[0m\u001b[0;34m\u001b[0m\u001b[0m\n",
      "\u001b[0;31mFileNotFoundError\u001b[0m: [Errno 2] No such file or directory: 'mrlc_ebs_data'"
     ]
    }
   ],
   "source": [
    "arr = os.listdir(local_dir)\n",
    "arr"
   ]
  },
  {
   "cell_type": "code",
   "execution_count": null,
   "metadata": {},
   "outputs": [],
   "source": [
    "arr = os.listdir(directory_to_extract_to)\n",
    "files = os.listdir(f'{directory_to_extract_to}/{arr[0]}')\n",
    "for file in files:\n",
    "    if file.endswith('.img'):\n",
    "        print(file)"
   ]
  },
  {
   "cell_type": "code",
   "execution_count": null,
   "metadata": {},
   "outputs": [],
   "source": [
    "! df -h .\n",
    "!ls -lh mrlc_ebs_data/mrlc_erdas_img"
   ]
  },
  {
   "cell_type": "code",
   "execution_count": null,
   "metadata": {},
   "outputs": [],
   "source": [
    "#!rm -fr mrlc_ebs_data/"
   ]
  },
  {
   "cell_type": "code",
   "execution_count": null,
   "metadata": {},
   "outputs": [],
   "source": [
    "! df -h ."
   ]
  },
  {
   "cell_type": "code",
   "execution_count": null,
   "metadata": {},
   "outputs": [],
   "source": [
    "! gdal_translate -of GTiff mrlc_ebs_data/mrlc_erdas_img/Annual_Herb_1985_1995/nlcd_anhb_1992_mos_v1.img mrlc_ebs_data/mrlc_tif/nlcd_anhb_1992_mos_v1.tif"
   ]
  },
  {
   "cell_type": "code",
   "execution_count": null,
   "metadata": {},
   "outputs": [],
   "source": [
    "! rm -fr mrlc_ebs_data/mrlc_erdas_img/Annual_Herb_1985_1995/"
   ]
  },
  {
   "cell_type": "code",
   "execution_count": null,
   "metadata": {},
   "outputs": [],
   "source": []
  }
 ],
 "metadata": {
  "kernelspec": {
   "display_name": "Python 3",
   "language": "python",
   "name": "python3"
  },
  "language_info": {
   "codemirror_mode": {
    "name": "ipython",
    "version": 3
   },
   "file_extension": ".py",
   "mimetype": "text/x-python",
   "name": "python",
   "nbconvert_exporter": "python",
   "pygments_lexer": "ipython3",
   "version": "3.7.3"
  }
 },
 "nbformat": 4,
 "nbformat_minor": 4
}
